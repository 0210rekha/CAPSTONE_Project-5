{
 "cells": [
  {
   "cell_type": "code",
   "execution_count": 273,
   "id": "5f935c04-5ea0-466e-8c6b-f25113c5419f",
   "metadata": {},
   "outputs": [],
   "source": [
    "#import library\n",
    "import pandas as pd\n",
    "import matplotlib.pyplot as plt\n",
    "import seaborn as sns"
   ]
  },
  {
   "cell_type": "code",
   "execution_count": 274,
   "id": "0976788f-035c-440e-aa11-7b0536280093",
   "metadata": {},
   "outputs": [],
   "source": [
    "# ignore warnings\n",
    "import warnings\n",
    "warnings.filterwarnings('ignore')"
   ]
  },
  {
   "cell_type": "code",
   "execution_count": 275,
   "id": "a53c5c22-3a32-454f-a61e-99873c3e5e32",
   "metadata": {},
   "outputs": [],
   "source": [
    "#load csv file\n",
    "pizza_sale=pd.read_csv(\"Pizza_Sale.csv\")\n",
    "pizza_ingredients=pd.read_csv(\"Pizza_ingredients.csv\")"
   ]
  },
  {
   "cell_type": "code",
   "execution_count": 276,
   "id": "c6ab2b3a-846f-404c-ae0d-740e75cd5f39",
   "metadata": {},
   "outputs": [
    {
     "data": {
      "text/html": [
       "<div>\n",
       "<style scoped>\n",
       "    .dataframe tbody tr th:only-of-type {\n",
       "        vertical-align: middle;\n",
       "    }\n",
       "\n",
       "    .dataframe tbody tr th {\n",
       "        vertical-align: top;\n",
       "    }\n",
       "\n",
       "    .dataframe thead th {\n",
       "        text-align: right;\n",
       "    }\n",
       "</style>\n",
       "<table border=\"1\" class=\"dataframe\">\n",
       "  <thead>\n",
       "    <tr style=\"text-align: right;\">\n",
       "      <th></th>\n",
       "      <th>pizza_id</th>\n",
       "      <th>order_id</th>\n",
       "      <th>pizza_name_id</th>\n",
       "      <th>quantity</th>\n",
       "      <th>order_date</th>\n",
       "      <th>order_time</th>\n",
       "      <th>unit_price</th>\n",
       "      <th>total_price</th>\n",
       "      <th>pizza_size</th>\n",
       "      <th>pizza_category</th>\n",
       "      <th>pizza_ingredients</th>\n",
       "      <th>pizza_name</th>\n",
       "    </tr>\n",
       "  </thead>\n",
       "  <tbody>\n",
       "    <tr>\n",
       "      <th>0</th>\n",
       "      <td>6</td>\n",
       "      <td>2</td>\n",
       "      <td>thai_ckn_l</td>\n",
       "      <td>1</td>\n",
       "      <td>01-01-2015</td>\n",
       "      <td>11:57:40</td>\n",
       "      <td>20.75</td>\n",
       "      <td>20.75</td>\n",
       "      <td>L</td>\n",
       "      <td>Chicken</td>\n",
       "      <td>Chicken, Pineapple, Tomatoes, Red Peppers, Tha...</td>\n",
       "      <td>The Thai Chicken Pizza</td>\n",
       "    </tr>\n",
       "    <tr>\n",
       "      <th>1</th>\n",
       "      <td>11</td>\n",
       "      <td>6</td>\n",
       "      <td>bbq_ckn_s</td>\n",
       "      <td>1</td>\n",
       "      <td>01-01-2015</td>\n",
       "      <td>12:29:36</td>\n",
       "      <td>12.75</td>\n",
       "      <td>12.75</td>\n",
       "      <td>S</td>\n",
       "      <td>Chicken</td>\n",
       "      <td>Barbecued Chicken, Red Peppers, Green Peppers,...</td>\n",
       "      <td>The Barbecue Chicken Pizza</td>\n",
       "    </tr>\n",
       "    <tr>\n",
       "      <th>2</th>\n",
       "      <td>25</td>\n",
       "      <td>10</td>\n",
       "      <td>southw_ckn_l</td>\n",
       "      <td>1</td>\n",
       "      <td>01-01-2015</td>\n",
       "      <td>13:00:15</td>\n",
       "      <td>20.75</td>\n",
       "      <td>20.75</td>\n",
       "      <td>L</td>\n",
       "      <td>Chicken</td>\n",
       "      <td>Chicken, Tomatoes, Red Peppers, Red Onions, Ja...</td>\n",
       "      <td>The Southwest Chicken Pizza</td>\n",
       "    </tr>\n",
       "    <tr>\n",
       "      <th>3</th>\n",
       "      <td>26</td>\n",
       "      <td>11</td>\n",
       "      <td>bbq_ckn_l</td>\n",
       "      <td>1</td>\n",
       "      <td>01-01-2015</td>\n",
       "      <td>13:02:59</td>\n",
       "      <td>20.75</td>\n",
       "      <td>20.75</td>\n",
       "      <td>L</td>\n",
       "      <td>Chicken</td>\n",
       "      <td>Barbecued Chicken, Red Peppers, Green Peppers,...</td>\n",
       "      <td>The Barbecue Chicken Pizza</td>\n",
       "    </tr>\n",
       "    <tr>\n",
       "      <th>4</th>\n",
       "      <td>27</td>\n",
       "      <td>11</td>\n",
       "      <td>cali_ckn_l</td>\n",
       "      <td>1</td>\n",
       "      <td>01-01-2015</td>\n",
       "      <td>13:02:59</td>\n",
       "      <td>20.75</td>\n",
       "      <td>20.75</td>\n",
       "      <td>L</td>\n",
       "      <td>Chicken</td>\n",
       "      <td>Chicken, Artichoke, Spinach, Garlic, Jalapeno ...</td>\n",
       "      <td>The California Chicken Pizza</td>\n",
       "    </tr>\n",
       "  </tbody>\n",
       "</table>\n",
       "</div>"
      ],
      "text/plain": [
       "   pizza_id  order_id pizza_name_id  quantity  order_date order_time  \\\n",
       "0         6         2    thai_ckn_l         1  01-01-2015   11:57:40   \n",
       "1        11         6     bbq_ckn_s         1  01-01-2015   12:29:36   \n",
       "2        25        10  southw_ckn_l         1  01-01-2015   13:00:15   \n",
       "3        26        11     bbq_ckn_l         1  01-01-2015   13:02:59   \n",
       "4        27        11    cali_ckn_l         1  01-01-2015   13:02:59   \n",
       "\n",
       "   unit_price  total_price pizza_size pizza_category  \\\n",
       "0       20.75        20.75          L        Chicken   \n",
       "1       12.75        12.75          S        Chicken   \n",
       "2       20.75        20.75          L        Chicken   \n",
       "3       20.75        20.75          L        Chicken   \n",
       "4       20.75        20.75          L        Chicken   \n",
       "\n",
       "                                   pizza_ingredients  \\\n",
       "0  Chicken, Pineapple, Tomatoes, Red Peppers, Tha...   \n",
       "1  Barbecued Chicken, Red Peppers, Green Peppers,...   \n",
       "2  Chicken, Tomatoes, Red Peppers, Red Onions, Ja...   \n",
       "3  Barbecued Chicken, Red Peppers, Green Peppers,...   \n",
       "4  Chicken, Artichoke, Spinach, Garlic, Jalapeno ...   \n",
       "\n",
       "                     pizza_name  \n",
       "0        The Thai Chicken Pizza  \n",
       "1    The Barbecue Chicken Pizza  \n",
       "2   The Southwest Chicken Pizza  \n",
       "3    The Barbecue Chicken Pizza  \n",
       "4  The California Chicken Pizza  "
      ]
     },
     "execution_count": 276,
     "metadata": {},
     "output_type": "execute_result"
    }
   ],
   "source": [
    "pizza_sale.head()"
   ]
  },
  {
   "cell_type": "code",
   "execution_count": 277,
   "id": "d5dfaf6c-0af9-4ee7-975c-3beb3890cd13",
   "metadata": {},
   "outputs": [
    {
     "data": {
      "text/plain": [
       "(48620, 12)"
      ]
     },
     "execution_count": 277,
     "metadata": {},
     "output_type": "execute_result"
    }
   ],
   "source": [
    "pizza_sale.shape"
   ]
  },
  {
   "cell_type": "code",
   "execution_count": 278,
   "id": "bc1a2944-e615-450e-bea0-215536e5ab4f",
   "metadata": {},
   "outputs": [
    {
     "name": "stdout",
     "output_type": "stream",
     "text": [
      "<class 'pandas.core.frame.DataFrame'>\n",
      "RangeIndex: 48620 entries, 0 to 48619\n",
      "Data columns (total 12 columns):\n",
      " #   Column             Non-Null Count  Dtype  \n",
      "---  ------             --------------  -----  \n",
      " 0   pizza_id           48620 non-null  int64  \n",
      " 1   order_id           48620 non-null  int64  \n",
      " 2   pizza_name_id      48604 non-null  object \n",
      " 3   quantity           48620 non-null  int64  \n",
      " 4   order_date         48620 non-null  object \n",
      " 5   order_time         48620 non-null  object \n",
      " 6   unit_price         48620 non-null  float64\n",
      " 7   total_price        48613 non-null  float64\n",
      " 8   pizza_size         48620 non-null  object \n",
      " 9   pizza_category     48597 non-null  object \n",
      " 10  pizza_ingredients  48607 non-null  object \n",
      " 11  pizza_name         48613 non-null  object \n",
      "dtypes: float64(2), int64(3), object(7)\n",
      "memory usage: 4.5+ MB\n"
     ]
    }
   ],
   "source": [
    "pizza_sale.info()"
   ]
  },
  {
   "cell_type": "code",
   "execution_count": 279,
   "id": "965abc63-1e79-4e7a-a956-43bf70230617",
   "metadata": {},
   "outputs": [
    {
     "data": {
      "text/html": [
       "<div>\n",
       "<style scoped>\n",
       "    .dataframe tbody tr th:only-of-type {\n",
       "        vertical-align: middle;\n",
       "    }\n",
       "\n",
       "    .dataframe tbody tr th {\n",
       "        vertical-align: top;\n",
       "    }\n",
       "\n",
       "    .dataframe thead th {\n",
       "        text-align: right;\n",
       "    }\n",
       "</style>\n",
       "<table border=\"1\" class=\"dataframe\">\n",
       "  <thead>\n",
       "    <tr style=\"text-align: right;\">\n",
       "      <th></th>\n",
       "      <th>pizza_id</th>\n",
       "      <th>order_id</th>\n",
       "      <th>quantity</th>\n",
       "      <th>unit_price</th>\n",
       "      <th>total_price</th>\n",
       "    </tr>\n",
       "  </thead>\n",
       "  <tbody>\n",
       "    <tr>\n",
       "      <th>count</th>\n",
       "      <td>48620.000000</td>\n",
       "      <td>48620.000000</td>\n",
       "      <td>48620.000000</td>\n",
       "      <td>48620.000000</td>\n",
       "      <td>48613.000000</td>\n",
       "    </tr>\n",
       "    <tr>\n",
       "      <th>mean</th>\n",
       "      <td>24310.500000</td>\n",
       "      <td>10701.479761</td>\n",
       "      <td>1.019622</td>\n",
       "      <td>16.494132</td>\n",
       "      <td>16.821494</td>\n",
       "    </tr>\n",
       "    <tr>\n",
       "      <th>std</th>\n",
       "      <td>14035.529381</td>\n",
       "      <td>6180.119770</td>\n",
       "      <td>0.143077</td>\n",
       "      <td>3.621789</td>\n",
       "      <td>4.437520</td>\n",
       "    </tr>\n",
       "    <tr>\n",
       "      <th>min</th>\n",
       "      <td>1.000000</td>\n",
       "      <td>1.000000</td>\n",
       "      <td>1.000000</td>\n",
       "      <td>9.750000</td>\n",
       "      <td>9.750000</td>\n",
       "    </tr>\n",
       "    <tr>\n",
       "      <th>25%</th>\n",
       "      <td>12155.750000</td>\n",
       "      <td>5337.000000</td>\n",
       "      <td>1.000000</td>\n",
       "      <td>12.750000</td>\n",
       "      <td>12.750000</td>\n",
       "    </tr>\n",
       "    <tr>\n",
       "      <th>50%</th>\n",
       "      <td>24310.500000</td>\n",
       "      <td>10682.500000</td>\n",
       "      <td>1.000000</td>\n",
       "      <td>16.500000</td>\n",
       "      <td>16.500000</td>\n",
       "    </tr>\n",
       "    <tr>\n",
       "      <th>75%</th>\n",
       "      <td>36465.250000</td>\n",
       "      <td>16100.000000</td>\n",
       "      <td>1.000000</td>\n",
       "      <td>20.250000</td>\n",
       "      <td>20.500000</td>\n",
       "    </tr>\n",
       "    <tr>\n",
       "      <th>max</th>\n",
       "      <td>48620.000000</td>\n",
       "      <td>21350.000000</td>\n",
       "      <td>4.000000</td>\n",
       "      <td>35.950000</td>\n",
       "      <td>83.000000</td>\n",
       "    </tr>\n",
       "  </tbody>\n",
       "</table>\n",
       "</div>"
      ],
      "text/plain": [
       "           pizza_id      order_id      quantity    unit_price   total_price\n",
       "count  48620.000000  48620.000000  48620.000000  48620.000000  48613.000000\n",
       "mean   24310.500000  10701.479761      1.019622     16.494132     16.821494\n",
       "std    14035.529381   6180.119770      0.143077      3.621789      4.437520\n",
       "min        1.000000      1.000000      1.000000      9.750000      9.750000\n",
       "25%    12155.750000   5337.000000      1.000000     12.750000     12.750000\n",
       "50%    24310.500000  10682.500000      1.000000     16.500000     16.500000\n",
       "75%    36465.250000  16100.000000      1.000000     20.250000     20.500000\n",
       "max    48620.000000  21350.000000      4.000000     35.950000     83.000000"
      ]
     },
     "execution_count": 279,
     "metadata": {},
     "output_type": "execute_result"
    }
   ],
   "source": [
    "pizza_sale.describe()"
   ]
  },
  {
   "cell_type": "code",
   "execution_count": 280,
   "id": "3f404b59-1dc7-46b1-a345-990f3305c7f6",
   "metadata": {},
   "outputs": [
    {
     "data": {
      "text/plain": [
       "pizza_id              0\n",
       "order_id              0\n",
       "pizza_name_id        16\n",
       "quantity              0\n",
       "order_date            0\n",
       "order_time            0\n",
       "unit_price            0\n",
       "total_price           7\n",
       "pizza_size            0\n",
       "pizza_category       23\n",
       "pizza_ingredients    13\n",
       "pizza_name            7\n",
       "dtype: int64"
      ]
     },
     "execution_count": 280,
     "metadata": {},
     "output_type": "execute_result"
    }
   ],
   "source": [
    "#find missing values\n",
    "pizza_sale.isna().sum()"
   ]
  },
  {
   "cell_type": "code",
   "execution_count": 281,
   "id": "0b96a254-a8ec-4d43-a178-511227f27fc8",
   "metadata": {},
   "outputs": [],
   "source": [
    "# Clean and preprocess the data\n",
    "pizza_sale[['pizza_name_id', 'pizza_category', 'pizza_ingredients', 'pizza_name']] = pizza_sale[['pizza_name_id', 'pizza_category', 'pizza_ingredients', 'pizza_name']].fillna(method='ffill')\n",
    "\n",
    "pizza_sale['total_price'] = pizza_sale['total_price'].interpolate(method='linear')"
   ]
  },
  {
   "cell_type": "code",
   "execution_count": 282,
   "id": "da3a2d23-f0b0-4ce9-957f-15f2406a67db",
   "metadata": {},
   "outputs": [
    {
     "data": {
      "text/plain": [
       "pizza_id             0\n",
       "order_id             0\n",
       "pizza_name_id        0\n",
       "quantity             0\n",
       "order_date           0\n",
       "order_time           0\n",
       "unit_price           0\n",
       "total_price          0\n",
       "pizza_size           0\n",
       "pizza_category       0\n",
       "pizza_ingredients    0\n",
       "pizza_name           0\n",
       "dtype: int64"
      ]
     },
     "execution_count": 282,
     "metadata": {},
     "output_type": "execute_result"
    }
   ],
   "source": [
    "pizza_sale.isna().sum()"
   ]
  },
  {
   "cell_type": "code",
   "execution_count": 283,
   "id": "5fd22949-69a9-4540-b3e1-ceb6dbeda096",
   "metadata": {},
   "outputs": [
    {
     "data": {
      "text/plain": [
       "0"
      ]
     },
     "execution_count": 283,
     "metadata": {},
     "output_type": "execute_result"
    }
   ],
   "source": [
    "#remove duplicated values\n",
    "\n",
    "pizza_sale.duplicated().sum()"
   ]
  },
  {
   "cell_type": "code",
   "execution_count": 284,
   "id": "370da099-d68c-4710-ac95-6e217dde9216",
   "metadata": {},
   "outputs": [
    {
     "data": {
      "text/html": [
       "<div>\n",
       "<style scoped>\n",
       "    .dataframe tbody tr th:only-of-type {\n",
       "        vertical-align: middle;\n",
       "    }\n",
       "\n",
       "    .dataframe tbody tr th {\n",
       "        vertical-align: top;\n",
       "    }\n",
       "\n",
       "    .dataframe thead th {\n",
       "        text-align: right;\n",
       "    }\n",
       "</style>\n",
       "<table border=\"1\" class=\"dataframe\">\n",
       "  <thead>\n",
       "    <tr style=\"text-align: right;\">\n",
       "      <th></th>\n",
       "      <th>pizza_name_id</th>\n",
       "      <th>pizza_name</th>\n",
       "      <th>pizza_ingredients</th>\n",
       "      <th>Items_Qty_In_Grams</th>\n",
       "    </tr>\n",
       "  </thead>\n",
       "  <tbody>\n",
       "    <tr>\n",
       "      <th>0</th>\n",
       "      <td>bbq_ckn_l</td>\n",
       "      <td>The Barbecue Chicken Pizza</td>\n",
       "      <td>Barbecued Chicken</td>\n",
       "      <td>40.0</td>\n",
       "    </tr>\n",
       "    <tr>\n",
       "      <th>1</th>\n",
       "      <td>bbq_ckn_l</td>\n",
       "      <td>The Barbecue Chicken Pizza</td>\n",
       "      <td>Red Peppers</td>\n",
       "      <td>15.0</td>\n",
       "    </tr>\n",
       "    <tr>\n",
       "      <th>2</th>\n",
       "      <td>bbq_ckn_l</td>\n",
       "      <td>The Barbecue Chicken Pizza</td>\n",
       "      <td>Green Peppers</td>\n",
       "      <td>20.0</td>\n",
       "    </tr>\n",
       "    <tr>\n",
       "      <th>3</th>\n",
       "      <td>bbq_ckn_l</td>\n",
       "      <td>The Barbecue Chicken Pizza</td>\n",
       "      <td>Tomatoes</td>\n",
       "      <td>30.0</td>\n",
       "    </tr>\n",
       "    <tr>\n",
       "      <th>4</th>\n",
       "      <td>bbq_ckn_l</td>\n",
       "      <td>The Barbecue Chicken Pizza</td>\n",
       "      <td>Red Onions</td>\n",
       "      <td>60.0</td>\n",
       "    </tr>\n",
       "  </tbody>\n",
       "</table>\n",
       "</div>"
      ],
      "text/plain": [
       "  pizza_name_id                  pizza_name  pizza_ingredients  \\\n",
       "0     bbq_ckn_l  The Barbecue Chicken Pizza  Barbecued Chicken   \n",
       "1     bbq_ckn_l  The Barbecue Chicken Pizza        Red Peppers   \n",
       "2     bbq_ckn_l  The Barbecue Chicken Pizza      Green Peppers   \n",
       "3     bbq_ckn_l  The Barbecue Chicken Pizza           Tomatoes   \n",
       "4     bbq_ckn_l  The Barbecue Chicken Pizza         Red Onions   \n",
       "\n",
       "   Items_Qty_In_Grams  \n",
       "0                40.0  \n",
       "1                15.0  \n",
       "2                20.0  \n",
       "3                30.0  \n",
       "4                60.0  "
      ]
     },
     "execution_count": 284,
     "metadata": {},
     "output_type": "execute_result"
    }
   ],
   "source": [
    "#data preprocessing for ingredient data\n",
    "pizza_ingredients.head()"
   ]
  },
  {
   "cell_type": "code",
   "execution_count": 285,
   "id": "2f204f59-8e48-4bac-9810-a7eef4d5167b",
   "metadata": {},
   "outputs": [
    {
     "data": {
      "text/html": [
       "<div>\n",
       "<style scoped>\n",
       "    .dataframe tbody tr th:only-of-type {\n",
       "        vertical-align: middle;\n",
       "    }\n",
       "\n",
       "    .dataframe tbody tr th {\n",
       "        vertical-align: top;\n",
       "    }\n",
       "\n",
       "    .dataframe thead th {\n",
       "        text-align: right;\n",
       "    }\n",
       "</style>\n",
       "<table border=\"1\" class=\"dataframe\">\n",
       "  <thead>\n",
       "    <tr style=\"text-align: right;\">\n",
       "      <th></th>\n",
       "      <th>pizza_name_id</th>\n",
       "      <th>pizza_name</th>\n",
       "      <th>pizza_ingredients</th>\n",
       "      <th>Items_Qty_In_Grams</th>\n",
       "    </tr>\n",
       "  </thead>\n",
       "  <tbody>\n",
       "    <tr>\n",
       "      <th>513</th>\n",
       "      <td>veggie_veg_s</td>\n",
       "      <td>The Vegetables + Vegetables Pizza</td>\n",
       "      <td>Green Peppers</td>\n",
       "      <td>20.0</td>\n",
       "    </tr>\n",
       "    <tr>\n",
       "      <th>514</th>\n",
       "      <td>veggie_veg_s</td>\n",
       "      <td>The Vegetables + Vegetables Pizza</td>\n",
       "      <td>Red Onions</td>\n",
       "      <td>20.0</td>\n",
       "    </tr>\n",
       "    <tr>\n",
       "      <th>515</th>\n",
       "      <td>veggie_veg_s</td>\n",
       "      <td>The Vegetables + Vegetables Pizza</td>\n",
       "      <td>Zucchini</td>\n",
       "      <td>10.0</td>\n",
       "    </tr>\n",
       "    <tr>\n",
       "      <th>516</th>\n",
       "      <td>veggie_veg_s</td>\n",
       "      <td>The Vegetables + Vegetables Pizza</td>\n",
       "      <td>Spinach</td>\n",
       "      <td>15.0</td>\n",
       "    </tr>\n",
       "    <tr>\n",
       "      <th>517</th>\n",
       "      <td>veggie_veg_s</td>\n",
       "      <td>The Vegetables + Vegetables Pizza</td>\n",
       "      <td>Garlic</td>\n",
       "      <td>5.0</td>\n",
       "    </tr>\n",
       "  </tbody>\n",
       "</table>\n",
       "</div>"
      ],
      "text/plain": [
       "    pizza_name_id                         pizza_name pizza_ingredients  \\\n",
       "513  veggie_veg_s  The Vegetables + Vegetables Pizza     Green Peppers   \n",
       "514  veggie_veg_s  The Vegetables + Vegetables Pizza        Red Onions   \n",
       "515  veggie_veg_s  The Vegetables + Vegetables Pizza          Zucchini   \n",
       "516  veggie_veg_s  The Vegetables + Vegetables Pizza           Spinach   \n",
       "517  veggie_veg_s  The Vegetables + Vegetables Pizza            Garlic   \n",
       "\n",
       "     Items_Qty_In_Grams  \n",
       "513                20.0  \n",
       "514                20.0  \n",
       "515                10.0  \n",
       "516                15.0  \n",
       "517                 5.0  "
      ]
     },
     "execution_count": 285,
     "metadata": {},
     "output_type": "execute_result"
    }
   ],
   "source": [
    "pizza_ingredients.tail()"
   ]
  },
  {
   "cell_type": "code",
   "execution_count": 286,
   "id": "de3bbff8-d8f3-48ba-ae53-0382f706ca79",
   "metadata": {},
   "outputs": [
    {
     "data": {
      "text/plain": [
       "(518, 4)"
      ]
     },
     "execution_count": 286,
     "metadata": {},
     "output_type": "execute_result"
    }
   ],
   "source": [
    "pizza_ingredients.shape"
   ]
  },
  {
   "cell_type": "code",
   "execution_count": 287,
   "id": "64f03d61-bd0f-4b1e-8ab9-8f4881bb6d31",
   "metadata": {},
   "outputs": [
    {
     "name": "stdout",
     "output_type": "stream",
     "text": [
      "<class 'pandas.core.frame.DataFrame'>\n",
      "RangeIndex: 518 entries, 0 to 517\n",
      "Data columns (total 4 columns):\n",
      " #   Column              Non-Null Count  Dtype  \n",
      "---  ------              --------------  -----  \n",
      " 0   pizza_name_id       518 non-null    object \n",
      " 1   pizza_name          518 non-null    object \n",
      " 2   pizza_ingredients   518 non-null    object \n",
      " 3   Items_Qty_In_Grams  514 non-null    float64\n",
      "dtypes: float64(1), object(3)\n",
      "memory usage: 16.3+ KB\n"
     ]
    }
   ],
   "source": [
    "pizza_ingredients.info()"
   ]
  },
  {
   "cell_type": "code",
   "execution_count": 288,
   "id": "b82c4caa-ae41-44da-9f64-da71499f1bcc",
   "metadata": {},
   "outputs": [
    {
     "data": {
      "text/html": [
       "<div>\n",
       "<style scoped>\n",
       "    .dataframe tbody tr th:only-of-type {\n",
       "        vertical-align: middle;\n",
       "    }\n",
       "\n",
       "    .dataframe tbody tr th {\n",
       "        vertical-align: top;\n",
       "    }\n",
       "\n",
       "    .dataframe thead th {\n",
       "        text-align: right;\n",
       "    }\n",
       "</style>\n",
       "<table border=\"1\" class=\"dataframe\">\n",
       "  <thead>\n",
       "    <tr style=\"text-align: right;\">\n",
       "      <th></th>\n",
       "      <th>Items_Qty_In_Grams</th>\n",
       "    </tr>\n",
       "  </thead>\n",
       "  <tbody>\n",
       "    <tr>\n",
       "      <th>count</th>\n",
       "      <td>514.000000</td>\n",
       "    </tr>\n",
       "    <tr>\n",
       "      <th>mean</th>\n",
       "      <td>30.564202</td>\n",
       "    </tr>\n",
       "    <tr>\n",
       "      <th>std</th>\n",
       "      <td>30.351623</td>\n",
       "    </tr>\n",
       "    <tr>\n",
       "      <th>min</th>\n",
       "      <td>5.000000</td>\n",
       "    </tr>\n",
       "    <tr>\n",
       "      <th>25%</th>\n",
       "      <td>10.000000</td>\n",
       "    </tr>\n",
       "    <tr>\n",
       "      <th>50%</th>\n",
       "      <td>20.000000</td>\n",
       "    </tr>\n",
       "    <tr>\n",
       "      <th>75%</th>\n",
       "      <td>40.000000</td>\n",
       "    </tr>\n",
       "    <tr>\n",
       "      <th>max</th>\n",
       "      <td>200.000000</td>\n",
       "    </tr>\n",
       "  </tbody>\n",
       "</table>\n",
       "</div>"
      ],
      "text/plain": [
       "       Items_Qty_In_Grams\n",
       "count          514.000000\n",
       "mean            30.564202\n",
       "std             30.351623\n",
       "min              5.000000\n",
       "25%             10.000000\n",
       "50%             20.000000\n",
       "75%             40.000000\n",
       "max            200.000000"
      ]
     },
     "execution_count": 288,
     "metadata": {},
     "output_type": "execute_result"
    }
   ],
   "source": [
    "pizza_ingredients.describe()"
   ]
  },
  {
   "cell_type": "code",
   "execution_count": 289,
   "id": "4208918f-2597-4d9f-b721-0ebb53aa882b",
   "metadata": {},
   "outputs": [
    {
     "data": {
      "text/plain": [
       "pizza_name_id         0\n",
       "pizza_name            0\n",
       "pizza_ingredients     0\n",
       "Items_Qty_In_Grams    4\n",
       "dtype: int64"
      ]
     },
     "execution_count": 289,
     "metadata": {},
     "output_type": "execute_result"
    }
   ],
   "source": [
    "#find missing values\n",
    "pizza_ingredients.isna().sum()"
   ]
  },
  {
   "cell_type": "code",
   "execution_count": 290,
   "id": "0dd371f6-6030-4c5a-bc7a-f7aada2d0d90",
   "metadata": {},
   "outputs": [],
   "source": [
    "pizza_ingredients['Items_Qty_In_Grams']=pizza_ingredients['Items_Qty_In_Grams'].fillna(method='ffill')"
   ]
  },
  {
   "cell_type": "code",
   "execution_count": 291,
   "id": "72f4c639-039e-4f13-98b2-8ba6998c4fc9",
   "metadata": {},
   "outputs": [
    {
     "data": {
      "text/plain": [
       "pizza_name_id         0\n",
       "pizza_name            0\n",
       "pizza_ingredients     0\n",
       "Items_Qty_In_Grams    0\n",
       "dtype: int64"
      ]
     },
     "execution_count": 291,
     "metadata": {},
     "output_type": "execute_result"
    }
   ],
   "source": [
    "pizza_ingredients.isna().sum()"
   ]
  },
  {
   "cell_type": "code",
   "execution_count": 292,
   "id": "0d2d4c68-6bf9-447f-8cee-789b33a604ee",
   "metadata": {},
   "outputs": [
    {
     "data": {
      "text/plain": [
       "0"
      ]
     },
     "execution_count": 292,
     "metadata": {},
     "output_type": "execute_result"
    }
   ],
   "source": [
    "#remove duplicates\n",
    "pizza_ingredients.duplicated().sum()"
   ]
  },
  {
   "cell_type": "code",
   "execution_count": 293,
   "id": "4b2e5653-fe54-4233-9860-ba3a4bed5fd6",
   "metadata": {},
   "outputs": [
    {
     "data": {
      "text/html": [
       "<div>\n",
       "<style scoped>\n",
       "    .dataframe tbody tr th:only-of-type {\n",
       "        vertical-align: middle;\n",
       "    }\n",
       "\n",
       "    .dataframe tbody tr th {\n",
       "        vertical-align: top;\n",
       "    }\n",
       "\n",
       "    .dataframe thead th {\n",
       "        text-align: right;\n",
       "    }\n",
       "</style>\n",
       "<table border=\"1\" class=\"dataframe\">\n",
       "  <thead>\n",
       "    <tr style=\"text-align: right;\">\n",
       "      <th></th>\n",
       "      <th>pizza_name_id</th>\n",
       "      <th>pizza_name</th>\n",
       "      <th>pizza_ingredients</th>\n",
       "      <th>Items_Qty_In_Grams</th>\n",
       "    </tr>\n",
       "  </thead>\n",
       "  <tbody>\n",
       "    <tr>\n",
       "      <th>0</th>\n",
       "      <td>bbq_ckn_l</td>\n",
       "      <td>The Barbecue Chicken Pizza</td>\n",
       "      <td>Barbecued Chicken</td>\n",
       "      <td>40.0</td>\n",
       "    </tr>\n",
       "    <tr>\n",
       "      <th>1</th>\n",
       "      <td>bbq_ckn_l</td>\n",
       "      <td>The Barbecue Chicken Pizza</td>\n",
       "      <td>Red Peppers</td>\n",
       "      <td>15.0</td>\n",
       "    </tr>\n",
       "    <tr>\n",
       "      <th>2</th>\n",
       "      <td>bbq_ckn_l</td>\n",
       "      <td>The Barbecue Chicken Pizza</td>\n",
       "      <td>Green Peppers</td>\n",
       "      <td>20.0</td>\n",
       "    </tr>\n",
       "    <tr>\n",
       "      <th>3</th>\n",
       "      <td>bbq_ckn_l</td>\n",
       "      <td>The Barbecue Chicken Pizza</td>\n",
       "      <td>Tomatoes</td>\n",
       "      <td>30.0</td>\n",
       "    </tr>\n",
       "    <tr>\n",
       "      <th>4</th>\n",
       "      <td>bbq_ckn_l</td>\n",
       "      <td>The Barbecue Chicken Pizza</td>\n",
       "      <td>Red Onions</td>\n",
       "      <td>60.0</td>\n",
       "    </tr>\n",
       "    <tr>\n",
       "      <th>...</th>\n",
       "      <td>...</td>\n",
       "      <td>...</td>\n",
       "      <td>...</td>\n",
       "      <td>...</td>\n",
       "    </tr>\n",
       "    <tr>\n",
       "      <th>513</th>\n",
       "      <td>veggie_veg_s</td>\n",
       "      <td>The Vegetables + Vegetables Pizza</td>\n",
       "      <td>Green Peppers</td>\n",
       "      <td>20.0</td>\n",
       "    </tr>\n",
       "    <tr>\n",
       "      <th>514</th>\n",
       "      <td>veggie_veg_s</td>\n",
       "      <td>The Vegetables + Vegetables Pizza</td>\n",
       "      <td>Red Onions</td>\n",
       "      <td>20.0</td>\n",
       "    </tr>\n",
       "    <tr>\n",
       "      <th>515</th>\n",
       "      <td>veggie_veg_s</td>\n",
       "      <td>The Vegetables + Vegetables Pizza</td>\n",
       "      <td>Zucchini</td>\n",
       "      <td>10.0</td>\n",
       "    </tr>\n",
       "    <tr>\n",
       "      <th>516</th>\n",
       "      <td>veggie_veg_s</td>\n",
       "      <td>The Vegetables + Vegetables Pizza</td>\n",
       "      <td>Spinach</td>\n",
       "      <td>15.0</td>\n",
       "    </tr>\n",
       "    <tr>\n",
       "      <th>517</th>\n",
       "      <td>veggie_veg_s</td>\n",
       "      <td>The Vegetables + Vegetables Pizza</td>\n",
       "      <td>Garlic</td>\n",
       "      <td>5.0</td>\n",
       "    </tr>\n",
       "  </tbody>\n",
       "</table>\n",
       "<p>518 rows × 4 columns</p>\n",
       "</div>"
      ],
      "text/plain": [
       "    pizza_name_id                         pizza_name  pizza_ingredients  \\\n",
       "0       bbq_ckn_l         The Barbecue Chicken Pizza  Barbecued Chicken   \n",
       "1       bbq_ckn_l         The Barbecue Chicken Pizza        Red Peppers   \n",
       "2       bbq_ckn_l         The Barbecue Chicken Pizza      Green Peppers   \n",
       "3       bbq_ckn_l         The Barbecue Chicken Pizza           Tomatoes   \n",
       "4       bbq_ckn_l         The Barbecue Chicken Pizza         Red Onions   \n",
       "..            ...                                ...                ...   \n",
       "513  veggie_veg_s  The Vegetables + Vegetables Pizza      Green Peppers   \n",
       "514  veggie_veg_s  The Vegetables + Vegetables Pizza         Red Onions   \n",
       "515  veggie_veg_s  The Vegetables + Vegetables Pizza           Zucchini   \n",
       "516  veggie_veg_s  The Vegetables + Vegetables Pizza            Spinach   \n",
       "517  veggie_veg_s  The Vegetables + Vegetables Pizza             Garlic   \n",
       "\n",
       "     Items_Qty_In_Grams  \n",
       "0                  40.0  \n",
       "1                  15.0  \n",
       "2                  20.0  \n",
       "3                  30.0  \n",
       "4                  60.0  \n",
       "..                  ...  \n",
       "513                20.0  \n",
       "514                20.0  \n",
       "515                10.0  \n",
       "516                15.0  \n",
       "517                 5.0  \n",
       "\n",
       "[518 rows x 4 columns]"
      ]
     },
     "execution_count": 293,
     "metadata": {},
     "output_type": "execute_result"
    }
   ],
   "source": [
    "pizza_ingredients"
   ]
  },
  {
   "cell_type": "code",
   "execution_count": 294,
   "id": "dc72786f-497d-42cb-b6b9-84ef703a1bdc",
   "metadata": {},
   "outputs": [],
   "source": [
    "#pizza sales dataset\n",
    "\n",
    "def parse_dates(date):\n",
    "  for fmt in ('%d-%m-%Y', '%d/%m/%Y'):\n",
    "    try:\n",
    "      return pd.to_datetime(date, format=fmt)\n",
    "    except ValueError:\n",
    "      pass\n",
    "  raise ValueError(f'no valid date format found for {date}')"
   ]
  },
  {
   "cell_type": "code",
   "execution_count": 295,
   "id": "a3ddb607-15a6-4b80-b94f-416c258a9027",
   "metadata": {},
   "outputs": [],
   "source": [
    "pizza_sale['order_date'] = pizza_sale['order_date'].apply(parse_dates)"
   ]
  },
  {
   "cell_type": "code",
   "execution_count": 296,
   "id": "cbef78eb-d0b0-4cf6-85e9-903706d65f14",
   "metadata": {},
   "outputs": [
    {
     "data": {
      "text/plain": [
       "0   2015-01-01\n",
       "1   2015-01-01\n",
       "2   2015-01-01\n",
       "3   2015-01-01\n",
       "4   2015-01-01\n",
       "Name: order_date, dtype: datetime64[ns]"
      ]
     },
     "execution_count": 296,
     "metadata": {},
     "output_type": "execute_result"
    }
   ],
   "source": [
    "pizza_sale['order_date'].head()"
   ]
  },
  {
   "cell_type": "code",
   "execution_count": 297,
   "id": "cb97e767-9209-4105-b56d-0a021209456e",
   "metadata": {},
   "outputs": [
    {
     "data": {
      "image/png": "[encoded data removed]",
      "text/plain": [
       "<Figure size 1000x600 with 1 Axes>"
      ]
     },
     "metadata": {},
     "output_type": "display_data"
    }
   ],
   "source": [
    "# Group by order date, resample weekly, and sum the quantity\n",
    "pizza_sale['order_date'] = pd.to_datetime(pizza_sale['order_date'])  \n",
    "weekly_sales = pizza_sale.resample('W', on='order_date')['quantity'].sum()  \n",
    "\n",
    "# Create the plot\n",
    "plt.figure(figsize=(10, 6))\n",
    "plt.plot(weekly_sales.index, weekly_sales.values)\n",
    "plt.xlabel('Order Date (Weekly)')\n",
    "plt.ylabel('Quantity Sold')\n",
    "plt.title('Quantity Sold Per Week')\n",
    "plt.grid(True)\n",
    "plt.show()\n"
   ]
  },
  {
   "cell_type": "code",
   "execution_count": 298,
   "id": "daa0e046-f093-4141-8663-a6a7546e553d",
   "metadata": {},
   "outputs": [
    {
     "data": {
      "image/png": "[encoded data removed]",
      "text/plain": [
       "<Figure size 1000x600 with 2 Axes>"
      ]
     },
     "metadata": {},
     "output_type": "display_data"
    }
   ],
   "source": [
    "#ACF and PACF\n",
    "from statsmodels.graphics.tsaplots import plot_acf, plot_pacf\n",
    "fig = plt.figure(figsize=(10,6))\n",
    "ax1 = fig.add_subplot(211)\n",
    "fig = plot_acf(weekly_sales, lags=40, ax=ax1)\n",
    "ax2 = fig.add_subplot(212)\n",
    "fig = plot_pacf(weekly_sales, lags=25, ax=ax2)\n"
   ]
  },
  {
   "cell_type": "code",
   "execution_count": 299,
   "id": "dd0454e9-4843-4346-a22f-b72ee13f0844",
   "metadata": {},
   "outputs": [],
   "source": [
    "#p=1, q=1, d=0\n",
    "\n",
    "#check stationary\n",
    "\n",
    "from statsmodels.tsa.stattools import adfuller\n",
    "\n",
    "# H0: it is not stationary\n",
    "# H1: it is stationary\n",
    "\n",
    "def adf_test(sales):\n",
    "  result = adfuller(sales)\n",
    "  print('ADF Statistic: %f' % result[0])\n",
    "  print('p-value: %f' % result[1])\n",
    "  print(f'# Lags used: {result[2]}')\n",
    "  print(f'No of observations used: {result[3]}')\n",
    "  if result[1] <= 0.05:\n",
    "    print('we reject the null hypothesis, The series is stationary')\n",
    "  else:\n",
    "    print('Not enough statistical evidence to reject null hypothesis, The series is not stationary')"
   ]
  },
  {
   "cell_type": "code",
   "execution_count": 300,
   "id": "c558513f-d879-4402-b221-31de2f2ab620",
   "metadata": {},
   "outputs": [
    {
     "name": "stdout",
     "output_type": "stream",
     "text": [
      "ADF Statistic: -4.771161\n",
      "p-value: 0.000062\n",
      "# Lags used: 0\n",
      "No of observations used: 52\n",
      "we reject the null hypothesis, The series is stationary\n"
     ]
    }
   ],
   "source": [
    "adf_test(weekly_sales)"
   ]
  },
  {
   "cell_type": "code",
   "execution_count": 301,
   "id": "43877ae0-358a-4c86-bc1d-f2e335f20636",
   "metadata": {},
   "outputs": [],
   "source": [
    "#Model Training\n",
    "\n",
    "from statsmodels.tsa.statespace.sarimax import SARIMAX\n",
    "from statsmodels.tsa.arima.model import ARIMA\n",
    "from sklearn.metrics import mean_absolute_percentage_error\n",
    "\n",
    "pizza = pizza_sale.groupby(['order_date'])['quantity'].sum()\n"
   ]
  },
  {
   "cell_type": "code",
   "execution_count": 302,
   "id": "37578a35-7a72-4a01-82fa-4451915b471d",
   "metadata": {},
   "outputs": [
    {
     "data": {
      "text/plain": [
       "order_date\n",
       "2015-01-01    162\n",
       "2015-01-02    165\n",
       "2015-01-03    158\n",
       "2015-01-04    106\n",
       "2015-01-05    125\n",
       "Name: quantity, dtype: int64"
      ]
     },
     "execution_count": 302,
     "metadata": {},
     "output_type": "execute_result"
    }
   ],
   "source": [
    "pizza.head()"
   ]
  },
  {
   "cell_type": "code",
   "execution_count": 303,
   "id": "7db7c7bf-aca8-4f7c-81de-f615815aebc3",
   "metadata": {},
   "outputs": [],
   "source": [
    "pizza.index = pizza.index.to_period('W')"
   ]
  },
  {
   "cell_type": "code",
   "execution_count": 304,
   "id": "2ba7587d-ef38-41f4-9e14-5657a4dc482e",
   "metadata": {},
   "outputs": [],
   "source": [
    "# split train and test\n",
    "train_size = int(len(pizza) * 0.8)\n",
    "train, test = pizza[:train_size], pizza[train_size:]\n"
   ]
  },
  {
   "cell_type": "code",
   "execution_count": 305,
   "id": "7fc661b8-9cd6-4dc7-9652-2d0fb73e6c29",
   "metadata": {},
   "outputs": [],
   "source": [
    "arima_model = ARIMA(train, order=(1, 0, 1))  # p=1, d=0, q=1\n",
    "arima_fit = arima_model.fit()"
   ]
  },
  {
   "cell_type": "code",
   "execution_count": 306,
   "id": "24c15a01-4f5e-46f7-90a0-cfa2bf644332",
   "metadata": {},
   "outputs": [],
   "source": [
    "# forecast\n",
    "ari_forecast = arima_fit.get_forecast(steps=len(test))\n",
    "ari_fore_values = ari_forecast.predicted_mean"
   ]
  },
  {
   "cell_type": "code",
   "execution_count": 307,
   "id": "9b88e739-f540-4254-89a5-e82b1d2d2485",
   "metadata": {},
   "outputs": [],
   "source": [
    "ari_predict = arima_fit.predict(start=len(train), end=len(train)+len(test)-1, dynamic=True)"
   ]
  },
  {
   "cell_type": "code",
   "execution_count": 308,
   "id": "bc749b94-f0b3-4898-9e5d-73aadbebe0a2",
   "metadata": {},
   "outputs": [],
   "source": [
    "ari_predict.index = test.index"
   ]
  },
  {
   "cell_type": "code",
   "execution_count": 309,
   "id": "73eaf9f5-493a-4f3c-aa15-68a28722bb82",
   "metadata": {},
   "outputs": [
    {
     "data": {
      "text/html": [
       "<div>\n",
       "<style scoped>\n",
       "    .dataframe tbody tr th:only-of-type {\n",
       "        vertical-align: middle;\n",
       "    }\n",
       "\n",
       "    .dataframe tbody tr th {\n",
       "        vertical-align: top;\n",
       "    }\n",
       "\n",
       "    .dataframe thead th {\n",
       "        text-align: right;\n",
       "    }\n",
       "</style>\n",
       "<table border=\"1\" class=\"dataframe\">\n",
       "  <thead>\n",
       "    <tr style=\"text-align: right;\">\n",
       "      <th></th>\n",
       "      <th>Actual</th>\n",
       "      <th>Predicted</th>\n",
       "    </tr>\n",
       "    <tr>\n",
       "      <th>order_date</th>\n",
       "      <th></th>\n",
       "      <th></th>\n",
       "    </tr>\n",
       "  </thead>\n",
       "  <tbody>\n",
       "    <tr>\n",
       "      <th>2015-10-12/2015-10-18</th>\n",
       "      <td>105</td>\n",
       "      <td>130.935009</td>\n",
       "    </tr>\n",
       "    <tr>\n",
       "      <th>2015-10-19/2015-10-25</th>\n",
       "      <td>154</td>\n",
       "      <td>131.855049</td>\n",
       "    </tr>\n",
       "    <tr>\n",
       "      <th>2015-10-19/2015-10-25</th>\n",
       "      <td>149</td>\n",
       "      <td>132.664308</td>\n",
       "    </tr>\n",
       "    <tr>\n",
       "      <th>2015-10-19/2015-10-25</th>\n",
       "      <td>145</td>\n",
       "      <td>133.376126</td>\n",
       "    </tr>\n",
       "    <tr>\n",
       "      <th>2015-10-19/2015-10-25</th>\n",
       "      <td>154</td>\n",
       "      <td>134.002234</td>\n",
       "    </tr>\n",
       "    <tr>\n",
       "      <th>...</th>\n",
       "      <td>...</td>\n",
       "      <td>...</td>\n",
       "    </tr>\n",
       "    <tr>\n",
       "      <th>2015-12-21/2015-12-27</th>\n",
       "      <td>89</td>\n",
       "      <td>138.574574</td>\n",
       "    </tr>\n",
       "    <tr>\n",
       "      <th>2015-12-28/2016-01-03</th>\n",
       "      <td>102</td>\n",
       "      <td>138.574744</td>\n",
       "    </tr>\n",
       "    <tr>\n",
       "      <th>2015-12-28/2016-01-03</th>\n",
       "      <td>80</td>\n",
       "      <td>138.574893</td>\n",
       "    </tr>\n",
       "    <tr>\n",
       "      <th>2015-12-28/2016-01-03</th>\n",
       "      <td>82</td>\n",
       "      <td>138.575025</td>\n",
       "    </tr>\n",
       "    <tr>\n",
       "      <th>2015-12-28/2016-01-03</th>\n",
       "      <td>178</td>\n",
       "      <td>138.575141</td>\n",
       "    </tr>\n",
       "  </tbody>\n",
       "</table>\n",
       "<p>72 rows × 2 columns</p>\n",
       "</div>"
      ],
      "text/plain": [
       "                       Actual   Predicted\n",
       "order_date                               \n",
       "2015-10-12/2015-10-18     105  130.935009\n",
       "2015-10-19/2015-10-25     154  131.855049\n",
       "2015-10-19/2015-10-25     149  132.664308\n",
       "2015-10-19/2015-10-25     145  133.376126\n",
       "2015-10-19/2015-10-25     154  134.002234\n",
       "...                       ...         ...\n",
       "2015-12-21/2015-12-27      89  138.574574\n",
       "2015-12-28/2016-01-03     102  138.574744\n",
       "2015-12-28/2016-01-03      80  138.574893\n",
       "2015-12-28/2016-01-03      82  138.575025\n",
       "2015-12-28/2016-01-03     178  138.575141\n",
       "\n",
       "[72 rows x 2 columns]"
      ]
     },
     "execution_count": 309,
     "metadata": {},
     "output_type": "execute_result"
    }
   ],
   "source": [
    "# concat test and ari_predict without changing the index of test, test is a pandas series\n",
    "\n",
    "concatenated_series = pd.concat([test, ari_predict], axis=1)\n",
    "concatenated_series.columns = ['Actual', 'Predicted']\n",
    "concatenated_series"
   ]
  },
  {
   "cell_type": "code",
   "execution_count": 310,
   "id": "802e72f7-0cbd-4a76-ac6e-4c59d97097a2",
   "metadata": {},
   "outputs": [
    {
     "data": {
      "image/png": "[encoded data removed]",
      "text/plain": [
       "<Figure size 1000x600 with 1 Axes>"
      ]
     },
     "metadata": {},
     "output_type": "display_data"
    }
   ],
   "source": [
    "concatenated_series.plot(figsize=(10, 6))\n",
    "plt.xlabel('Order Date')\n",
    "plt.ylabel('Quantity Sold')\n",
    "plt.title('Actual vs. Predicted Quantity Sold for Pizza')\n",
    "plt.show()"
   ]
  },
  {
   "cell_type": "code",
   "execution_count": 311,
   "id": "979bcef2-97c9-4be1-8576-67d54eb73878",
   "metadata": {},
   "outputs": [
    {
     "name": "stdout",
     "output_type": "stream",
     "text": [
      "ARIMA MAPE: 0.16541963778893568\n"
     ]
    }
   ],
   "source": [
    "# Evaluate the model\n",
    "mape = mean_absolute_percentage_error(test, ari_fore_values)\n",
    "\n",
    "print(f'ARIMA MAPE: {mape}')\n"
   ]
  },
  {
   "cell_type": "code",
   "execution_count": 312,
   "id": "ad8db0ed-4840-4173-8513-ac6f4aab1d8f",
   "metadata": {},
   "outputs": [],
   "source": [
    "# fit SARIMA model\n",
    "sari_model = SARIMAX(train, order=(1, 1, 1), seasonal_order=(1, 1, 1, 7))\n",
    "sari_result = sari_model.fit()"
   ]
  },
  {
   "cell_type": "code",
   "execution_count": 313,
   "id": "01ffe0cb-cdd0-45c7-b56a-2bf3292fbe61",
   "metadata": {},
   "outputs": [],
   "source": [
    "# sarima forecast\n",
    "sari_forecast = sari_result.get_forecast(steps=len(test))\n",
    "sari_fore_values = sari_forecast.predicted_mean\n"
   ]
  },
  {
   "cell_type": "code",
   "execution_count": 314,
   "id": "00010d63-12b9-44ca-9389-c9f475062129",
   "metadata": {},
   "outputs": [
    {
     "name": "stdout",
     "output_type": "stream",
     "text": [
      "SARIMAX MAPE: 0.1738790582784574\n"
     ]
    }
   ],
   "source": [
    "# Evaluate Sarima\n",
    "mape = mean_absolute_percentage_error(test, sari_fore_values)\n",
    "\n",
    "print(f'SARIMAX MAPE: {mape}')"
   ]
  },
  {
   "cell_type": "code",
   "execution_count": 315,
   "id": "56c80bb6-5010-45ae-91ef-d1cd0932c2d5",
   "metadata": {},
   "outputs": [],
   "source": [
    "sari_predict = sari_result.predict(start=len(train), end=len(train)+len(test)-1, dynamic=True)"
   ]
  },
  {
   "cell_type": "code",
   "execution_count": 316,
   "id": "1b343482-f6a4-432b-abcc-b8eb48a89ff5",
   "metadata": {},
   "outputs": [],
   "source": [
    "sari_predict.index = test.index"
   ]
  },
  {
   "cell_type": "code",
   "execution_count": 317,
   "id": "ea874ce1-7130-4b7f-a724-99cc7e6a01fd",
   "metadata": {},
   "outputs": [
    {
     "data": {
      "text/html": [
       "<div>\n",
       "<style scoped>\n",
       "    .dataframe tbody tr th:only-of-type {\n",
       "        vertical-align: middle;\n",
       "    }\n",
       "\n",
       "    .dataframe tbody tr th {\n",
       "        vertical-align: top;\n",
       "    }\n",
       "\n",
       "    .dataframe thead th {\n",
       "        text-align: right;\n",
       "    }\n",
       "</style>\n",
       "<table border=\"1\" class=\"dataframe\">\n",
       "  <thead>\n",
       "    <tr style=\"text-align: right;\">\n",
       "      <th></th>\n",
       "      <th>Actual</th>\n",
       "      <th>Predicted</th>\n",
       "    </tr>\n",
       "    <tr>\n",
       "      <th>order_date</th>\n",
       "      <th></th>\n",
       "      <th></th>\n",
       "    </tr>\n",
       "  </thead>\n",
       "  <tbody>\n",
       "    <tr>\n",
       "      <th>2015-10-12/2015-10-18</th>\n",
       "      <td>105</td>\n",
       "      <td>136.485636</td>\n",
       "    </tr>\n",
       "    <tr>\n",
       "      <th>2015-10-19/2015-10-25</th>\n",
       "      <td>154</td>\n",
       "      <td>136.973669</td>\n",
       "    </tr>\n",
       "    <tr>\n",
       "      <th>2015-10-19/2015-10-25</th>\n",
       "      <td>149</td>\n",
       "      <td>161.125200</td>\n",
       "    </tr>\n",
       "    <tr>\n",
       "      <th>2015-10-19/2015-10-25</th>\n",
       "      <td>145</td>\n",
       "      <td>144.213406</td>\n",
       "    </tr>\n",
       "    <tr>\n",
       "      <th>2015-10-19/2015-10-25</th>\n",
       "      <td>154</td>\n",
       "      <td>133.114692</td>\n",
       "    </tr>\n",
       "    <tr>\n",
       "      <th>...</th>\n",
       "      <td>...</td>\n",
       "      <td>...</td>\n",
       "    </tr>\n",
       "    <tr>\n",
       "      <th>2015-12-21/2015-12-27</th>\n",
       "      <td>89</td>\n",
       "      <td>122.031901</td>\n",
       "    </tr>\n",
       "    <tr>\n",
       "      <th>2015-12-28/2016-01-03</th>\n",
       "      <td>102</td>\n",
       "      <td>136.497715</td>\n",
       "    </tr>\n",
       "    <tr>\n",
       "      <th>2015-12-28/2016-01-03</th>\n",
       "      <td>80</td>\n",
       "      <td>137.682305</td>\n",
       "    </tr>\n",
       "    <tr>\n",
       "      <th>2015-12-28/2016-01-03</th>\n",
       "      <td>82</td>\n",
       "      <td>136.501773</td>\n",
       "    </tr>\n",
       "    <tr>\n",
       "      <th>2015-12-28/2016-01-03</th>\n",
       "      <td>178</td>\n",
       "      <td>139.064645</td>\n",
       "    </tr>\n",
       "  </tbody>\n",
       "</table>\n",
       "<p>72 rows × 2 columns</p>\n",
       "</div>"
      ],
      "text/plain": [
       "                       Actual   Predicted\n",
       "order_date                               \n",
       "2015-10-12/2015-10-18     105  136.485636\n",
       "2015-10-19/2015-10-25     154  136.973669\n",
       "2015-10-19/2015-10-25     149  161.125200\n",
       "2015-10-19/2015-10-25     145  144.213406\n",
       "2015-10-19/2015-10-25     154  133.114692\n",
       "...                       ...         ...\n",
       "2015-12-21/2015-12-27      89  122.031901\n",
       "2015-12-28/2016-01-03     102  136.497715\n",
       "2015-12-28/2016-01-03      80  137.682305\n",
       "2015-12-28/2016-01-03      82  136.501773\n",
       "2015-12-28/2016-01-03     178  139.064645\n",
       "\n",
       "[72 rows x 2 columns]"
      ]
     },
     "execution_count": 317,
     "metadata": {},
     "output_type": "execute_result"
    }
   ],
   "source": [
    "concatenated_sarima = pd.concat([test, sari_predict] , axis=1)\n",
    "concatenated_sarima.columns = ['Actual', 'Predicted']\n",
    "concatenated_sarima"
   ]
  },
  {
   "cell_type": "code",
   "execution_count": 318,
   "id": "8d51ee6e-1335-412b-a8ee-c9ea4a204236",
   "metadata": {},
   "outputs": [
    {
     "data": {
      "image/png": "[encoded data removed]",
      "text/plain": [
       "<Figure size 1000x600 with 1 Axes>"
      ]
     },
     "metadata": {},
     "output_type": "display_data"
    }
   ],
   "source": [
    "concatenated_sarima.plot(figsize=(10, 6))\n",
    "plt.xlabel('Order Date')\n",
    "plt.ylabel('Quantity Sold')\n",
    "plt.title('Actual vs. Predicted Quantity Sold for \"Pizza\"')\n",
    "plt.show()\n",
    "     "
   ]
  },
  {
   "cell_type": "code",
   "execution_count": 319,
   "id": "70b57418-8891-4deb-b02f-c38159e8cab9",
   "metadata": {},
   "outputs": [
    {
     "name": "stdout",
     "output_type": "stream",
     "text": [
      "Defaulting to user installation because normal site-packages is not writeable\n",
      "Requirement already satisfied: prophet in c:\\users\\rekha\\appdata\\roaming\\python\\python312\\site-packages (1.1.6)\n",
      "Requirement already satisfied: cmdstanpy>=1.0.4 in c:\\users\\rekha\\appdata\\roaming\\python\\python312\\site-packages (from prophet) (1.2.5)\n",
      "Requirement already satisfied: numpy>=1.15.4 in c:\\programdata\\anaconda3\\lib\\site-packages (from prophet) (1.26.4)\n",
      "Requirement already satisfied: matplotlib>=2.0.0 in c:\\programdata\\anaconda3\\lib\\site-packages (from prophet) (3.9.2)\n",
      "Requirement already satisfied: pandas>=1.0.4 in c:\\programdata\\anaconda3\\lib\\site-packages (from prophet) (2.2.2)\n",
      "Requirement already satisfied: holidays<1,>=0.25 in c:\\users\\rekha\\appdata\\roaming\\python\\python312\\site-packages (from prophet) (0.64)\n",
      "Requirement already satisfied: tqdm>=4.36.1 in c:\\programdata\\anaconda3\\lib\\site-packages (from prophet) (4.66.5)\n",
      "Requirement already satisfied: importlib-resources in c:\\users\\rekha\\appdata\\roaming\\python\\python312\\site-packages (from prophet) (6.5.2)\n",
      "Requirement already satisfied: stanio<2.0.0,>=0.4.0 in c:\\users\\rekha\\appdata\\roaming\\python\\python312\\site-packages (from cmdstanpy>=1.0.4->prophet) (0.5.1)\n",
      "Requirement already satisfied: python-dateutil in c:\\programdata\\anaconda3\\lib\\site-packages (from holidays<1,>=0.25->prophet) (2.9.0.post0)\n",
      "Requirement already satisfied: contourpy>=1.0.1 in c:\\programdata\\anaconda3\\lib\\site-packages (from matplotlib>=2.0.0->prophet) (1.2.0)\n",
      "Requirement already satisfied: cycler>=0.10 in c:\\programdata\\anaconda3\\lib\\site-packages (from matplotlib>=2.0.0->prophet) (0.11.0)\n",
      "Requirement already satisfied: fonttools>=4.22.0 in c:\\programdata\\anaconda3\\lib\\site-packages (from matplotlib>=2.0.0->prophet) (4.51.0)\n",
      "Requirement already satisfied: kiwisolver>=1.3.1 in c:\\programdata\\anaconda3\\lib\\site-packages (from matplotlib>=2.0.0->prophet) (1.4.4)\n",
      "Requirement already satisfied: packaging>=20.0 in c:\\programdata\\anaconda3\\lib\\site-packages (from matplotlib>=2.0.0->prophet) (24.1)\n",
      "Requirement already satisfied: pillow>=8 in c:\\programdata\\anaconda3\\lib\\site-packages (from matplotlib>=2.0.0->prophet) (10.4.0)\n",
      "Requirement already satisfied: pyparsing>=2.3.1 in c:\\programdata\\anaconda3\\lib\\site-packages (from matplotlib>=2.0.0->prophet) (3.1.2)\n",
      "Requirement already satisfied: pytz>=2020.1 in c:\\programdata\\anaconda3\\lib\\site-packages (from pandas>=1.0.4->prophet) (2024.1)\n",
      "Requirement already satisfied: tzdata>=2022.7 in c:\\programdata\\anaconda3\\lib\\site-packages (from pandas>=1.0.4->prophet) (2023.3)\n",
      "Requirement already satisfied: colorama in c:\\programdata\\anaconda3\\lib\\site-packages (from tqdm>=4.36.1->prophet) (0.4.6)\n",
      "Requirement already satisfied: six>=1.5 in c:\\programdata\\anaconda3\\lib\\site-packages (from python-dateutil->holidays<1,>=0.25->prophet) (1.16.0)\n",
      "Note: you may need to restart the kernel to use updated packages.\n"
     ]
    }
   ],
   "source": [
    "pip install prophet"
   ]
  },
  {
   "cell_type": "code",
   "execution_count": 320,
   "id": "7b3b2ed2-0e1c-4c01-af16-6f332a59a3dd",
   "metadata": {},
   "outputs": [],
   "source": [
    "from prophet import Prophet"
   ]
  },
  {
   "cell_type": "code",
   "execution_count": 321,
   "id": "7fa1e992-ce98-4a73-8ca0-d6ccb1f3da06",
   "metadata": {},
   "outputs": [],
   "source": [
    " pizza = pizza_sale.groupby(['order_date'])['quantity'].sum()"
   ]
  },
  {
   "cell_type": "code",
   "execution_count": 322,
   "id": "e90f0edc-e583-4f4e-b03c-683b723c1829",
   "metadata": {},
   "outputs": [],
   "source": [
    "pizza_df = pizza.reset_index()"
   ]
  },
  {
   "cell_type": "code",
   "execution_count": 323,
   "id": "4e1f80d4-1dce-431e-b329-0b40a460d3a3",
   "metadata": {},
   "outputs": [],
   "source": [
    "pizza_df = pizza_df.rename(columns={'order_date': 'ds', 'quantity': 'y'})"
   ]
  },
  {
   "cell_type": "code",
   "execution_count": 324,
   "id": "bfd07d8c-8baf-4246-af16-7ff89a5335ba",
   "metadata": {},
   "outputs": [],
   "source": [
    "# split train and test\n",
    "train_size = int(len(pizza_df) * 0.8)\n",
    "pr_train, pr_test = pizza_df[:train_size], pizza_df[train_size:]"
   ]
  },
  {
   "cell_type": "code",
   "execution_count": 325,
   "id": "adbdb5ed-4315-47d5-a533-f1eafd1c1540",
   "metadata": {},
   "outputs": [
    {
     "name": "stderr",
     "output_type": "stream",
     "text": [
      "08:27:50 - cmdstanpy - INFO - Chain [1] start processing\n",
      "08:27:50 - cmdstanpy - INFO - Chain [1] done processing\n"
     ]
    },
    {
     "data": {
      "text/plain": [
       "<prophet.forecaster.Prophet at 0x26d986037d0>"
      ]
     },
     "execution_count": 325,
     "metadata": {},
     "output_type": "execute_result"
    }
   ],
   "source": [
    "# fit model prophet\n",
    "pr_model = Prophet()\n",
    "pr_model.fit(pr_train)"
   ]
  },
  {
   "cell_type": "code",
   "execution_count": 326,
   "id": "1d2500d9-01a9-485c-94e6-b4e4f8bccdd7",
   "metadata": {},
   "outputs": [],
   "source": [
    "# forcast for one week\n",
    "pr_future = pr_model.make_future_dataframe(periods=10, freq='W')\n",
    "pr_forecast = pr_model.predict(pr_future)"
   ]
  },
  {
   "cell_type": "code",
   "execution_count": 327,
   "id": "fe2039a9-163f-4bce-b3fb-56851da99f6c",
   "metadata": {},
   "outputs": [],
   "source": [
    "# extract forecast values\n",
    "pr_forecast_values = pr_forecast['yhat'][-len(pr_test):].values"
   ]
  },
  {
   "cell_type": "code",
   "execution_count": 328,
   "id": "e1272207-3c24-4f75-85c1-c7296bbd94d6",
   "metadata": {},
   "outputs": [
    {
     "name": "stdout",
     "output_type": "stream",
     "text": [
      "prophet MAPE: 0.18675937858868638\n"
     ]
    }
   ],
   "source": [
    "# Evaluate the model\n",
    "mape = mean_absolute_percentage_error(pr_test['y'], pr_forecast_values)\n",
    "\n",
    "print(f'prophet MAPE: {mape}')"
   ]
  },
  {
   "cell_type": "code",
   "execution_count": 329,
   "id": "a2a91c92-969d-4a27-a900-34e7b2132ece",
   "metadata": {},
   "outputs": [
    {
     "data": {
      "text/html": [
       "<div>\n",
       "<style scoped>\n",
       "    .dataframe tbody tr th:only-of-type {\n",
       "        vertical-align: middle;\n",
       "    }\n",
       "\n",
       "    .dataframe tbody tr th {\n",
       "        vertical-align: top;\n",
       "    }\n",
       "\n",
       "    .dataframe thead th {\n",
       "        text-align: right;\n",
       "    }\n",
       "</style>\n",
       "<table border=\"1\" class=\"dataframe\">\n",
       "  <thead>\n",
       "    <tr style=\"text-align: right;\">\n",
       "      <th></th>\n",
       "      <th>Actual</th>\n",
       "      <th>Predicted</th>\n",
       "    </tr>\n",
       "    <tr>\n",
       "      <th>date</th>\n",
       "      <th></th>\n",
       "      <th></th>\n",
       "    </tr>\n",
       "  </thead>\n",
       "  <tbody>\n",
       "    <tr>\n",
       "      <th>2015-10-18</th>\n",
       "      <td>105.0</td>\n",
       "      <td>116.842075</td>\n",
       "    </tr>\n",
       "    <tr>\n",
       "      <th>2015-10-20</th>\n",
       "      <td>154.0</td>\n",
       "      <td>116.874002</td>\n",
       "    </tr>\n",
       "    <tr>\n",
       "      <th>2015-10-21</th>\n",
       "      <td>149.0</td>\n",
       "      <td>116.905929</td>\n",
       "    </tr>\n",
       "    <tr>\n",
       "      <th>2015-10-22</th>\n",
       "      <td>145.0</td>\n",
       "      <td>116.937856</td>\n",
       "    </tr>\n",
       "    <tr>\n",
       "      <th>2015-10-23</th>\n",
       "      <td>154.0</td>\n",
       "      <td>116.969783</td>\n",
       "    </tr>\n",
       "    <tr>\n",
       "      <th>...</th>\n",
       "      <td>...</td>\n",
       "      <td>...</td>\n",
       "    </tr>\n",
       "    <tr>\n",
       "      <th>NaT</th>\n",
       "      <td>NaN</td>\n",
       "      <td>135.978868</td>\n",
       "    </tr>\n",
       "    <tr>\n",
       "      <th>NaT</th>\n",
       "      <td>NaN</td>\n",
       "      <td>135.662046</td>\n",
       "    </tr>\n",
       "    <tr>\n",
       "      <th>NaT</th>\n",
       "      <td>NaN</td>\n",
       "      <td>142.566983</td>\n",
       "    </tr>\n",
       "    <tr>\n",
       "      <th>NaT</th>\n",
       "      <td>NaN</td>\n",
       "      <td>163.101230</td>\n",
       "    </tr>\n",
       "    <tr>\n",
       "      <th>NaT</th>\n",
       "      <td>NaN</td>\n",
       "      <td>145.815798</td>\n",
       "    </tr>\n",
       "  </tbody>\n",
       "</table>\n",
       "<p>134 rows × 2 columns</p>\n",
       "</div>"
      ],
      "text/plain": [
       "            Actual   Predicted\n",
       "date                          \n",
       "2015-10-18   105.0  116.842075\n",
       "2015-10-20   154.0  116.874002\n",
       "2015-10-21   149.0  116.905929\n",
       "2015-10-22   145.0  116.937856\n",
       "2015-10-23   154.0  116.969783\n",
       "...            ...         ...\n",
       "NaT            NaN  135.978868\n",
       "NaT            NaN  135.662046\n",
       "NaT            NaN  142.566983\n",
       "NaT            NaN  163.101230\n",
       "NaT            NaN  145.815798\n",
       "\n",
       "[134 rows x 2 columns]"
      ]
     },
     "execution_count": 329,
     "metadata": {},
     "output_type": "execute_result"
    }
   ],
   "source": [
    "concat_prophet = pd.concat([pr_test, pr_forecast[['yhat']].iloc[-len(pr_test):]], axis=1)\n",
    "concat_prophet.columns = ['date','Actual', 'Predicted']\n",
    "concat_prophet.set_index('date', inplace=True)\n",
    "concat_prophet"
   ]
  },
  {
   "cell_type": "code",
   "execution_count": 330,
   "id": "9b5dc16b-8223-4854-a532-a51dd04c91ab",
   "metadata": {},
   "outputs": [
    {
     "data": {
      "image/png": "[encoded data removed]",
      "text/plain": [
       "<Figure size 1200x600 with 1 Axes>"
      ]
     },
     "metadata": {},
     "output_type": "display_data"
    }
   ],
   "source": [
    "# visualize forecast\n",
    "concat_prophet.plot(figsize=(12, 6))\n",
    "plt.xlabel('Order Date')\n",
    "plt.ylabel('Quantity Sold')\n",
    "plt.title('Actual vs. Predicted Quantity Sold for \"Pizza\"')\n",
    "plt.show()"
   ]
  },
  {
   "cell_type": "code",
   "execution_count": 331,
   "id": "dc7625e3-e448-4219-8dd8-c935bd81121a",
   "metadata": {},
   "outputs": [],
   "source": [
    "pizza_sale = pizza_sale[['order_date', 'pizza_name', 'quantity']]"
   ]
  },
  {
   "cell_type": "code",
   "execution_count": 332,
   "id": "ed6c3419-aa33-48a0-8a69-e6c3b798d5f3",
   "metadata": {},
   "outputs": [],
   "source": [
    "#ingredient calculation\n",
    "\n",
    "sales_summary = pizza_sale.groupby(['order_date', 'pizza_name']).sum().reset_index()"
   ]
  },
  {
   "cell_type": "code",
   "execution_count": 333,
   "id": "810fd1d9-5471-4ac0-ab7c-84a205edc67d",
   "metadata": {},
   "outputs": [
    {
     "data": {
      "text/html": [
       "<div>\n",
       "<style scoped>\n",
       "    .dataframe tbody tr th:only-of-type {\n",
       "        vertical-align: middle;\n",
       "    }\n",
       "\n",
       "    .dataframe tbody tr th {\n",
       "        vertical-align: top;\n",
       "    }\n",
       "\n",
       "    .dataframe thead th {\n",
       "        text-align: right;\n",
       "    }\n",
       "</style>\n",
       "<table border=\"1\" class=\"dataframe\">\n",
       "  <thead>\n",
       "    <tr style=\"text-align: right;\">\n",
       "      <th></th>\n",
       "      <th>order_date</th>\n",
       "      <th>pizza_name</th>\n",
       "      <th>quantity</th>\n",
       "    </tr>\n",
       "  </thead>\n",
       "  <tbody>\n",
       "    <tr>\n",
       "      <th>0</th>\n",
       "      <td>2015-01-01</td>\n",
       "      <td>The Barbecue Chicken Pizza</td>\n",
       "      <td>11</td>\n",
       "    </tr>\n",
       "    <tr>\n",
       "      <th>1</th>\n",
       "      <td>2015-01-01</td>\n",
       "      <td>The Big Meat Pizza</td>\n",
       "      <td>5</td>\n",
       "    </tr>\n",
       "    <tr>\n",
       "      <th>2</th>\n",
       "      <td>2015-01-01</td>\n",
       "      <td>The Calabrese Pizza</td>\n",
       "      <td>1</td>\n",
       "    </tr>\n",
       "    <tr>\n",
       "      <th>3</th>\n",
       "      <td>2015-01-01</td>\n",
       "      <td>The California Chicken Pizza</td>\n",
       "      <td>4</td>\n",
       "    </tr>\n",
       "    <tr>\n",
       "      <th>4</th>\n",
       "      <td>2015-01-01</td>\n",
       "      <td>The Chicken Alfredo Pizza</td>\n",
       "      <td>2</td>\n",
       "    </tr>\n",
       "  </tbody>\n",
       "</table>\n",
       "</div>"
      ],
      "text/plain": [
       "  order_date                    pizza_name  quantity\n",
       "0 2015-01-01    The Barbecue Chicken Pizza        11\n",
       "1 2015-01-01            The Big Meat Pizza         5\n",
       "2 2015-01-01           The Calabrese Pizza         1\n",
       "3 2015-01-01  The California Chicken Pizza         4\n",
       "4 2015-01-01     The Chicken Alfredo Pizza         2"
      ]
     },
     "execution_count": 333,
     "metadata": {},
     "output_type": "execute_result"
    }
   ],
   "source": [
    "sales_summary.head()"
   ]
  },
  {
   "cell_type": "code",
   "execution_count": 334,
   "id": "ac445bde-a49e-4193-9ade-180ac8b941db",
   "metadata": {},
   "outputs": [],
   "source": [
    "# reshape data for time series modeling\n",
    "sales_pivot = sales_summary.pivot(index='order_date', columns='pizza_name', values='quantity').fillna(0)\n",
    "     "
   ]
  },
  {
   "cell_type": "code",
   "execution_count": 335,
   "id": "02bb2bac-697d-41d8-bbfe-6fe1a159ec98",
   "metadata": {},
   "outputs": [],
   "source": [
    "arima_models = {}\n",
    "\n",
    "for pizza_name in sales_pivot.columns:\n",
    "  try:\n",
    "    model = ARIMA(sales_pivot[pizza_name], order=(1, 0, 1))\n",
    "    model_fit = model.fit()\n",
    "    arima_models[pizza_name] = model_fit\n",
    "  except:\n",
    "    print(f'ARIMA model for {pizza_name} failed to fit')"
   ]
  },
  {
   "cell_type": "code",
   "execution_count": 336,
   "id": "c6731edd-d670-4276-aabc-8dcd54ab3b85",
   "metadata": {},
   "outputs": [],
   "source": [
    "# Generate predictions for one week\n",
    "prediction_days = 7\n",
    "predictions_arima = {}\n",
    "\n",
    "for pizza_name, model in arima_models.items():\n",
    "  predictions_arima[pizza_name] = model.predict(start=len(sales_pivot), end=len(sales_pivot) + prediction_days - 1)\n",
    "     "
   ]
  },
  {
   "cell_type": "code",
   "execution_count": 337,
   "id": "6c4f1441-0d80-4d3b-9b0c-b4fe30e0a54e",
   "metadata": {},
   "outputs": [],
   "source": [
    "predictions_df = pd.DataFrame(predictions_arima)"
   ]
  },
  {
   "cell_type": "code",
   "execution_count": 338,
   "id": "e4e8bd4d-d249-49dd-a8df-edd0f4bd4199",
   "metadata": {},
   "outputs": [],
   "source": [
    "predictions_df.index = pd.date_range(start=sales_pivot.index[-1], periods=prediction_days, freq='W')"
   ]
  },
  {
   "cell_type": "code",
   "execution_count": 339,
   "id": "1dc6ad67-5f8d-4fe4-95fb-bb2257fa8d58",
   "metadata": {},
   "outputs": [
    {
     "data": {
      "text/html": [
       "<div>\n",
       "<style scoped>\n",
       "    .dataframe tbody tr th:only-of-type {\n",
       "        vertical-align: middle;\n",
       "    }\n",
       "\n",
       "    .dataframe tbody tr th {\n",
       "        vertical-align: top;\n",
       "    }\n",
       "\n",
       "    .dataframe thead th {\n",
       "        text-align: right;\n",
       "    }\n",
       "</style>\n",
       "<table border=\"1\" class=\"dataframe\">\n",
       "  <thead>\n",
       "    <tr style=\"text-align: right;\">\n",
       "      <th></th>\n",
       "      <th>pizza_name_id</th>\n",
       "      <th>pizza_name</th>\n",
       "      <th>pizza_ingredients</th>\n",
       "      <th>Items_Qty_In_Grams</th>\n",
       "    </tr>\n",
       "  </thead>\n",
       "  <tbody>\n",
       "    <tr>\n",
       "      <th>0</th>\n",
       "      <td>bbq_ckn_l</td>\n",
       "      <td>The Barbecue Chicken Pizza</td>\n",
       "      <td>Barbecued Chicken</td>\n",
       "      <td>40.0</td>\n",
       "    </tr>\n",
       "    <tr>\n",
       "      <th>1</th>\n",
       "      <td>bbq_ckn_l</td>\n",
       "      <td>The Barbecue Chicken Pizza</td>\n",
       "      <td>Red Peppers</td>\n",
       "      <td>15.0</td>\n",
       "    </tr>\n",
       "    <tr>\n",
       "      <th>2</th>\n",
       "      <td>bbq_ckn_l</td>\n",
       "      <td>The Barbecue Chicken Pizza</td>\n",
       "      <td>Green Peppers</td>\n",
       "      <td>20.0</td>\n",
       "    </tr>\n",
       "    <tr>\n",
       "      <th>3</th>\n",
       "      <td>bbq_ckn_l</td>\n",
       "      <td>The Barbecue Chicken Pizza</td>\n",
       "      <td>Tomatoes</td>\n",
       "      <td>30.0</td>\n",
       "    </tr>\n",
       "    <tr>\n",
       "      <th>4</th>\n",
       "      <td>bbq_ckn_l</td>\n",
       "      <td>The Barbecue Chicken Pizza</td>\n",
       "      <td>Red Onions</td>\n",
       "      <td>60.0</td>\n",
       "    </tr>\n",
       "    <tr>\n",
       "      <th>...</th>\n",
       "      <td>...</td>\n",
       "      <td>...</td>\n",
       "      <td>...</td>\n",
       "      <td>...</td>\n",
       "    </tr>\n",
       "    <tr>\n",
       "      <th>513</th>\n",
       "      <td>veggie_veg_s</td>\n",
       "      <td>The Vegetables + Vegetables Pizza</td>\n",
       "      <td>Green Peppers</td>\n",
       "      <td>20.0</td>\n",
       "    </tr>\n",
       "    <tr>\n",
       "      <th>514</th>\n",
       "      <td>veggie_veg_s</td>\n",
       "      <td>The Vegetables + Vegetables Pizza</td>\n",
       "      <td>Red Onions</td>\n",
       "      <td>20.0</td>\n",
       "    </tr>\n",
       "    <tr>\n",
       "      <th>515</th>\n",
       "      <td>veggie_veg_s</td>\n",
       "      <td>The Vegetables + Vegetables Pizza</td>\n",
       "      <td>Zucchini</td>\n",
       "      <td>10.0</td>\n",
       "    </tr>\n",
       "    <tr>\n",
       "      <th>516</th>\n",
       "      <td>veggie_veg_s</td>\n",
       "      <td>The Vegetables + Vegetables Pizza</td>\n",
       "      <td>Spinach</td>\n",
       "      <td>15.0</td>\n",
       "    </tr>\n",
       "    <tr>\n",
       "      <th>517</th>\n",
       "      <td>veggie_veg_s</td>\n",
       "      <td>The Vegetables + Vegetables Pizza</td>\n",
       "      <td>Garlic</td>\n",
       "      <td>5.0</td>\n",
       "    </tr>\n",
       "  </tbody>\n",
       "</table>\n",
       "<p>518 rows × 4 columns</p>\n",
       "</div>"
      ],
      "text/plain": [
       "    pizza_name_id                         pizza_name  pizza_ingredients  \\\n",
       "0       bbq_ckn_l         The Barbecue Chicken Pizza  Barbecued Chicken   \n",
       "1       bbq_ckn_l         The Barbecue Chicken Pizza        Red Peppers   \n",
       "2       bbq_ckn_l         The Barbecue Chicken Pizza      Green Peppers   \n",
       "3       bbq_ckn_l         The Barbecue Chicken Pizza           Tomatoes   \n",
       "4       bbq_ckn_l         The Barbecue Chicken Pizza         Red Onions   \n",
       "..            ...                                ...                ...   \n",
       "513  veggie_veg_s  The Vegetables + Vegetables Pizza      Green Peppers   \n",
       "514  veggie_veg_s  The Vegetables + Vegetables Pizza         Red Onions   \n",
       "515  veggie_veg_s  The Vegetables + Vegetables Pizza           Zucchini   \n",
       "516  veggie_veg_s  The Vegetables + Vegetables Pizza            Spinach   \n",
       "517  veggie_veg_s  The Vegetables + Vegetables Pizza             Garlic   \n",
       "\n",
       "     Items_Qty_In_Grams  \n",
       "0                  40.0  \n",
       "1                  15.0  \n",
       "2                  20.0  \n",
       "3                  30.0  \n",
       "4                  60.0  \n",
       "..                  ...  \n",
       "513                20.0  \n",
       "514                20.0  \n",
       "515                10.0  \n",
       "516                15.0  \n",
       "517                 5.0  \n",
       "\n",
       "[518 rows x 4 columns]"
      ]
     },
     "execution_count": 339,
     "metadata": {},
     "output_type": "execute_result"
    }
   ],
   "source": [
    "pizza_ingredients"
   ]
  },
  {
   "cell_type": "code",
   "execution_count": 340,
   "id": "5b4e13f3-5117-457d-802c-5a6347c1c3ab",
   "metadata": {},
   "outputs": [],
   "source": [
    "# reshape data for time series modeling\n",
    "sales_pivot = sales_summary.pivot(index='order_date', columns='pizza_name', values='quantity').fillna(0)"
   ]
  },
  {
   "cell_type": "code",
   "execution_count": 341,
   "id": "6d45503d-7fb8-4128-9c11-7f4ca7944d41",
   "metadata": {},
   "outputs": [],
   "source": [
    "arima_models = {}\n",
    "\n",
    "for pizza_name in sales_pivot.columns:\n",
    "  try:\n",
    "    model = ARIMA(sales_pivot[pizza_name], order=(1, 1, 0))\n",
    "    model_fit = model.fit()\n",
    "    arima_models[pizza_name] = model_fit\n",
    "  except:\n",
    "    print(f'ARIMA model for {pizza_name} failed to fit')"
   ]
  },
  {
   "cell_type": "code",
   "execution_count": 342,
   "id": "340110ac-3093-4b3b-9db8-e40ee1f2c7c6",
   "metadata": {},
   "outputs": [],
   "source": [
    "# Generate predictions for one week\n",
    "prediction_days = 7\n",
    "predictions_arima = {}\n",
    "\n",
    "for pizza_name, model in arima_models.items():\n",
    "  predictions_arima[pizza_name] = model.predict(start=len(sales_pivot), end=len(sales_pivot) + prediction_days - 1)"
   ]
  },
  {
   "cell_type": "code",
   "execution_count": 343,
   "id": "92deb497-f3b7-4c67-b9b4-7d9288b14001",
   "metadata": {},
   "outputs": [],
   "source": [
    "predictions_df = pd.DataFrame(predictions_arima)"
   ]
  },
  {
   "cell_type": "code",
   "execution_count": 344,
   "id": "1f8be412-5eb3-4de5-9283-167e2d3a5867",
   "metadata": {},
   "outputs": [],
   "source": [
    "\n",
    "predictions_df.index = pd.date_range(start=sales_pivot.index[-1], periods=prediction_days, freq='W')"
   ]
  },
  {
   "cell_type": "code",
   "execution_count": 345,
   "id": "6f58f9bf-dd3d-4863-a6b5-9505372f25fd",
   "metadata": {},
   "outputs": [],
   "source": [
    "pizza_ingredients = pizza_ingredients[['pizza_name', 'pizza_ingredients', 'Items_Qty_In_Grams']]"
   ]
  },
  {
   "cell_type": "code",
   "execution_count": 346,
   "id": "9ff26184-1b53-4b1b-9227-2931a66298f7",
   "metadata": {},
   "outputs": [],
   "source": [
    "# change column name to items_qty\n",
    "pizza_ingredients.rename(columns={'Items_Qty_In_Grams': 'items_qty'}, inplace=True)"
   ]
  },
  {
   "cell_type": "code",
   "execution_count": 347,
   "id": "f4c4121e-313e-41ee-b822-3ee89878abef",
   "metadata": {},
   "outputs": [
    {
     "data": {
      "text/html": [
       "<div>\n",
       "<style scoped>\n",
       "    .dataframe tbody tr th:only-of-type {\n",
       "        vertical-align: middle;\n",
       "    }\n",
       "\n",
       "    .dataframe tbody tr th {\n",
       "        vertical-align: top;\n",
       "    }\n",
       "\n",
       "    .dataframe thead th {\n",
       "        text-align: right;\n",
       "    }\n",
       "</style>\n",
       "<table border=\"1\" class=\"dataframe\">\n",
       "  <thead>\n",
       "    <tr style=\"text-align: right;\">\n",
       "      <th></th>\n",
       "      <th>The Barbecue Chicken Pizza</th>\n",
       "      <th>The Big Meat Pizza</th>\n",
       "      <th>The Brie Carre Pizza</th>\n",
       "      <th>The Calabrese Pizza</th>\n",
       "      <th>The California Chicken Pizza</th>\n",
       "      <th>The Chicken Alfredo Pizza</th>\n",
       "      <th>The Chicken Pesto Pizza</th>\n",
       "      <th>The Classic Deluxe Pizza</th>\n",
       "      <th>The Five Cheese Pizza</th>\n",
       "      <th>The Four Cheese Pizza</th>\n",
       "      <th>...</th>\n",
       "      <th>The Prosciutto and Arugula Pizza</th>\n",
       "      <th>The Sicilian Pizza</th>\n",
       "      <th>The Soppressata Pizza</th>\n",
       "      <th>The Southwest Chicken Pizza</th>\n",
       "      <th>The Spicy Italian Pizza</th>\n",
       "      <th>The Spinach Pesto Pizza</th>\n",
       "      <th>The Spinach Supreme Pizza</th>\n",
       "      <th>The Spinach and Feta Pizza</th>\n",
       "      <th>The Thai Chicken Pizza</th>\n",
       "      <th>The Vegetables + Vegetables Pizza</th>\n",
       "    </tr>\n",
       "  </thead>\n",
       "  <tbody>\n",
       "    <tr>\n",
       "      <th>2016-01-03</th>\n",
       "      <td>7.940297</td>\n",
       "      <td>4.420315</td>\n",
       "      <td>0.868596</td>\n",
       "      <td>1.368239</td>\n",
       "      <td>7.0</td>\n",
       "      <td>2.529125</td>\n",
       "      <td>2.139860</td>\n",
       "      <td>6.884102</td>\n",
       "      <td>3.033661</td>\n",
       "      <td>6.965904</td>\n",
       "      <td>...</td>\n",
       "      <td>3.595451</td>\n",
       "      <td>2.583928</td>\n",
       "      <td>2.064211</td>\n",
       "      <td>5.918578</td>\n",
       "      <td>5.804710</td>\n",
       "      <td>3.537620</td>\n",
       "      <td>2.0</td>\n",
       "      <td>3.169020</td>\n",
       "      <td>3.0</td>\n",
       "      <td>7.773728</td>\n",
       "    </tr>\n",
       "    <tr>\n",
       "      <th>2016-01-10</th>\n",
       "      <td>9.000891</td>\n",
       "      <td>5.252117</td>\n",
       "      <td>1.508634</td>\n",
       "      <td>2.255787</td>\n",
       "      <td>7.0</td>\n",
       "      <td>3.250283</td>\n",
       "      <td>3.004890</td>\n",
       "      <td>8.502239</td>\n",
       "      <td>4.000283</td>\n",
       "      <td>8.000291</td>\n",
       "      <td>...</td>\n",
       "      <td>4.253037</td>\n",
       "      <td>3.751409</td>\n",
       "      <td>2.502062</td>\n",
       "      <td>5.496685</td>\n",
       "      <td>7.263264</td>\n",
       "      <td>4.250472</td>\n",
       "      <td>2.0</td>\n",
       "      <td>4.007142</td>\n",
       "      <td>3.0</td>\n",
       "      <td>8.764985</td>\n",
       "    </tr>\n",
       "    <tr>\n",
       "      <th>2016-01-17</th>\n",
       "      <td>8.454764</td>\n",
       "      <td>4.814122</td>\n",
       "      <td>1.146563</td>\n",
       "      <td>1.773032</td>\n",
       "      <td>7.0</td>\n",
       "      <td>2.896705</td>\n",
       "      <td>2.602621</td>\n",
       "      <td>7.661914</td>\n",
       "      <td>3.525106</td>\n",
       "      <td>7.474280</td>\n",
       "      <td>...</td>\n",
       "      <td>3.945166</td>\n",
       "      <td>3.187265</td>\n",
       "      <td>2.297193</td>\n",
       "      <td>5.690456</td>\n",
       "      <td>6.597478</td>\n",
       "      <td>3.902985</td>\n",
       "      <td>2.0</td>\n",
       "      <td>3.623496</td>\n",
       "      <td>3.0</td>\n",
       "      <td>8.323624</td>\n",
       "    </tr>\n",
       "    <tr>\n",
       "      <th>2016-01-24</th>\n",
       "      <td>8.735979</td>\n",
       "      <td>5.044753</td>\n",
       "      <td>1.351387</td>\n",
       "      <td>2.035612</td>\n",
       "      <td>7.0</td>\n",
       "      <td>3.070061</td>\n",
       "      <td>2.789690</td>\n",
       "      <td>8.098308</td>\n",
       "      <td>3.758696</td>\n",
       "      <td>7.741769</td>\n",
       "      <td>...</td>\n",
       "      <td>4.089306</td>\n",
       "      <td>3.459867</td>\n",
       "      <td>2.393050</td>\n",
       "      <td>5.601459</td>\n",
       "      <td>6.901389</td>\n",
       "      <td>4.072371</td>\n",
       "      <td>2.0</td>\n",
       "      <td>3.799108</td>\n",
       "      <td>3.0</td>\n",
       "      <td>8.520142</td>\n",
       "    </tr>\n",
       "    <tr>\n",
       "      <th>2016-01-31</th>\n",
       "      <td>8.591174</td>\n",
       "      <td>4.923311</td>\n",
       "      <td>1.235518</td>\n",
       "      <td>1.892789</td>\n",
       "      <td>7.0</td>\n",
       "      <td>2.985066</td>\n",
       "      <td>2.702696</td>\n",
       "      <td>7.871682</td>\n",
       "      <td>3.643867</td>\n",
       "      <td>7.605745</td>\n",
       "      <td>...</td>\n",
       "      <td>4.021822</td>\n",
       "      <td>3.328142</td>\n",
       "      <td>2.348199</td>\n",
       "      <td>5.642335</td>\n",
       "      <td>6.762663</td>\n",
       "      <td>3.989802</td>\n",
       "      <td>2.0</td>\n",
       "      <td>3.718722</td>\n",
       "      <td>3.0</td>\n",
       "      <td>8.432641</td>\n",
       "    </tr>\n",
       "    <tr>\n",
       "      <th>2016-02-07</th>\n",
       "      <td>8.665738</td>\n",
       "      <td>4.987258</td>\n",
       "      <td>1.301065</td>\n",
       "      <td>1.970474</td>\n",
       "      <td>7.0</td>\n",
       "      <td>3.026739</td>\n",
       "      <td>2.743152</td>\n",
       "      <td>7.989373</td>\n",
       "      <td>3.700315</td>\n",
       "      <td>7.674916</td>\n",
       "      <td>...</td>\n",
       "      <td>4.053417</td>\n",
       "      <td>3.391794</td>\n",
       "      <td>2.369185</td>\n",
       "      <td>5.623561</td>\n",
       "      <td>6.825988</td>\n",
       "      <td>4.030051</td>\n",
       "      <td>2.0</td>\n",
       "      <td>3.755518</td>\n",
       "      <td>3.0</td>\n",
       "      <td>8.471601</td>\n",
       "    </tr>\n",
       "    <tr>\n",
       "      <th>2016-02-14</th>\n",
       "      <td>8.627343</td>\n",
       "      <td>4.953586</td>\n",
       "      <td>1.263985</td>\n",
       "      <td>1.928219</td>\n",
       "      <td>7.0</td>\n",
       "      <td>3.006307</td>\n",
       "      <td>2.724338</td>\n",
       "      <td>7.928254</td>\n",
       "      <td>3.672566</td>\n",
       "      <td>7.639741</td>\n",
       "      <td>...</td>\n",
       "      <td>4.038625</td>\n",
       "      <td>3.361036</td>\n",
       "      <td>2.359366</td>\n",
       "      <td>5.632183</td>\n",
       "      <td>6.797082</td>\n",
       "      <td>4.010431</td>\n",
       "      <td>2.0</td>\n",
       "      <td>3.738675</td>\n",
       "      <td>3.0</td>\n",
       "      <td>8.454254</td>\n",
       "    </tr>\n",
       "  </tbody>\n",
       "</table>\n",
       "<p>7 rows × 32 columns</p>\n",
       "</div>"
      ],
      "text/plain": [
       "            The Barbecue Chicken Pizza  The Big Meat Pizza  \\\n",
       "2016-01-03                    7.940297            4.420315   \n",
       "2016-01-10                    9.000891            5.252117   \n",
       "2016-01-17                    8.454764            4.814122   \n",
       "2016-01-24                    8.735979            5.044753   \n",
       "2016-01-31                    8.591174            4.923311   \n",
       "2016-02-07                    8.665738            4.987258   \n",
       "2016-02-14                    8.627343            4.953586   \n",
       "\n",
       "            The Brie Carre Pizza  The Calabrese Pizza  \\\n",
       "2016-01-03              0.868596             1.368239   \n",
       "2016-01-10              1.508634             2.255787   \n",
       "2016-01-17              1.146563             1.773032   \n",
       "2016-01-24              1.351387             2.035612   \n",
       "2016-01-31              1.235518             1.892789   \n",
       "2016-02-07              1.301065             1.970474   \n",
       "2016-02-14              1.263985             1.928219   \n",
       "\n",
       "            The California Chicken Pizza  The Chicken Alfredo Pizza  \\\n",
       "2016-01-03                           7.0                   2.529125   \n",
       "2016-01-10                           7.0                   3.250283   \n",
       "2016-01-17                           7.0                   2.896705   \n",
       "2016-01-24                           7.0                   3.070061   \n",
       "2016-01-31                           7.0                   2.985066   \n",
       "2016-02-07                           7.0                   3.026739   \n",
       "2016-02-14                           7.0                   3.006307   \n",
       "\n",
       "            The Chicken Pesto Pizza  The Classic Deluxe Pizza  \\\n",
       "2016-01-03                 2.139860                  6.884102   \n",
       "2016-01-10                 3.004890                  8.502239   \n",
       "2016-01-17                 2.602621                  7.661914   \n",
       "2016-01-24                 2.789690                  8.098308   \n",
       "2016-01-31                 2.702696                  7.871682   \n",
       "2016-02-07                 2.743152                  7.989373   \n",
       "2016-02-14                 2.724338                  7.928254   \n",
       "\n",
       "            The Five Cheese Pizza  The Four Cheese Pizza  ...  \\\n",
       "2016-01-03               3.033661               6.965904  ...   \n",
       "2016-01-10               4.000283               8.000291  ...   \n",
       "2016-01-17               3.525106               7.474280  ...   \n",
       "2016-01-24               3.758696               7.741769  ...   \n",
       "2016-01-31               3.643867               7.605745  ...   \n",
       "2016-02-07               3.700315               7.674916  ...   \n",
       "2016-02-14               3.672566               7.639741  ...   \n",
       "\n",
       "            The Prosciutto and Arugula Pizza  The Sicilian Pizza  \\\n",
       "2016-01-03                          3.595451            2.583928   \n",
       "2016-01-10                          4.253037            3.751409   \n",
       "2016-01-17                          3.945166            3.187265   \n",
       "2016-01-24                          4.089306            3.459867   \n",
       "2016-01-31                          4.021822            3.328142   \n",
       "2016-02-07                          4.053417            3.391794   \n",
       "2016-02-14                          4.038625            3.361036   \n",
       "\n",
       "            The Soppressata Pizza  The Southwest Chicken Pizza  \\\n",
       "2016-01-03               2.064211                     5.918578   \n",
       "2016-01-10               2.502062                     5.496685   \n",
       "2016-01-17               2.297193                     5.690456   \n",
       "2016-01-24               2.393050                     5.601459   \n",
       "2016-01-31               2.348199                     5.642335   \n",
       "2016-02-07               2.369185                     5.623561   \n",
       "2016-02-14               2.359366                     5.632183   \n",
       "\n",
       "            The Spicy Italian Pizza  The Spinach Pesto Pizza  \\\n",
       "2016-01-03                 5.804710                 3.537620   \n",
       "2016-01-10                 7.263264                 4.250472   \n",
       "2016-01-17                 6.597478                 3.902985   \n",
       "2016-01-24                 6.901389                 4.072371   \n",
       "2016-01-31                 6.762663                 3.989802   \n",
       "2016-02-07                 6.825988                 4.030051   \n",
       "2016-02-14                 6.797082                 4.010431   \n",
       "\n",
       "            The Spinach Supreme Pizza  The Spinach and Feta Pizza  \\\n",
       "2016-01-03                        2.0                    3.169020   \n",
       "2016-01-10                        2.0                    4.007142   \n",
       "2016-01-17                        2.0                    3.623496   \n",
       "2016-01-24                        2.0                    3.799108   \n",
       "2016-01-31                        2.0                    3.718722   \n",
       "2016-02-07                        2.0                    3.755518   \n",
       "2016-02-14                        2.0                    3.738675   \n",
       "\n",
       "            The Thai Chicken Pizza  The Vegetables + Vegetables Pizza  \n",
       "2016-01-03                     3.0                           7.773728  \n",
       "2016-01-10                     3.0                           8.764985  \n",
       "2016-01-17                     3.0                           8.323624  \n",
       "2016-01-24                     3.0                           8.520142  \n",
       "2016-01-31                     3.0                           8.432641  \n",
       "2016-02-07                     3.0                           8.471601  \n",
       "2016-02-14                     3.0                           8.454254  \n",
       "\n",
       "[7 rows x 32 columns]"
      ]
     },
     "execution_count": 347,
     "metadata": {},
     "output_type": "execute_result"
    }
   ],
   "source": [
    "\n",
    "predictions_df\n",
    "     "
   ]
  },
  {
   "cell_type": "code",
   "execution_count": 348,
   "id": "fee9a998-6f51-4666-b152-74ab84ac2895",
   "metadata": {},
   "outputs": [
    {
     "data": {
      "text/html": [
       "<div>\n",
       "<style scoped>\n",
       "    .dataframe tbody tr th:only-of-type {\n",
       "        vertical-align: middle;\n",
       "    }\n",
       "\n",
       "    .dataframe tbody tr th {\n",
       "        vertical-align: top;\n",
       "    }\n",
       "\n",
       "    .dataframe thead th {\n",
       "        text-align: right;\n",
       "    }\n",
       "</style>\n",
       "<table border=\"1\" class=\"dataframe\">\n",
       "  <thead>\n",
       "    <tr style=\"text-align: right;\">\n",
       "      <th></th>\n",
       "      <th>pizza_name</th>\n",
       "      <th>pizza_ingredients</th>\n",
       "      <th>items_qty</th>\n",
       "    </tr>\n",
       "  </thead>\n",
       "  <tbody>\n",
       "    <tr>\n",
       "      <th>0</th>\n",
       "      <td>The Barbecue Chicken Pizza</td>\n",
       "      <td>Barbecued Chicken</td>\n",
       "      <td>40.0</td>\n",
       "    </tr>\n",
       "    <tr>\n",
       "      <th>1</th>\n",
       "      <td>The Barbecue Chicken Pizza</td>\n",
       "      <td>Red Peppers</td>\n",
       "      <td>15.0</td>\n",
       "    </tr>\n",
       "    <tr>\n",
       "      <th>2</th>\n",
       "      <td>The Barbecue Chicken Pizza</td>\n",
       "      <td>Green Peppers</td>\n",
       "      <td>20.0</td>\n",
       "    </tr>\n",
       "    <tr>\n",
       "      <th>3</th>\n",
       "      <td>The Barbecue Chicken Pizza</td>\n",
       "      <td>Tomatoes</td>\n",
       "      <td>30.0</td>\n",
       "    </tr>\n",
       "    <tr>\n",
       "      <th>4</th>\n",
       "      <td>The Barbecue Chicken Pizza</td>\n",
       "      <td>Red Onions</td>\n",
       "      <td>60.0</td>\n",
       "    </tr>\n",
       "    <tr>\n",
       "      <th>5</th>\n",
       "      <td>The Barbecue Chicken Pizza</td>\n",
       "      <td>Barbecue Sauce</td>\n",
       "      <td>15.0</td>\n",
       "    </tr>\n",
       "    <tr>\n",
       "      <th>6</th>\n",
       "      <td>The Barbecue Chicken Pizza</td>\n",
       "      <td>Barbecued Chicken</td>\n",
       "      <td>30.0</td>\n",
       "    </tr>\n",
       "    <tr>\n",
       "      <th>7</th>\n",
       "      <td>The Barbecue Chicken Pizza</td>\n",
       "      <td>Red Peppers</td>\n",
       "      <td>10.0</td>\n",
       "    </tr>\n",
       "    <tr>\n",
       "      <th>8</th>\n",
       "      <td>The Barbecue Chicken Pizza</td>\n",
       "      <td>Green Peppers</td>\n",
       "      <td>15.0</td>\n",
       "    </tr>\n",
       "    <tr>\n",
       "      <th>9</th>\n",
       "      <td>The Barbecue Chicken Pizza</td>\n",
       "      <td>Tomatoes</td>\n",
       "      <td>20.0</td>\n",
       "    </tr>\n",
       "  </tbody>\n",
       "</table>\n",
       "</div>"
      ],
      "text/plain": [
       "                   pizza_name  pizza_ingredients  items_qty\n",
       "0  The Barbecue Chicken Pizza  Barbecued Chicken       40.0\n",
       "1  The Barbecue Chicken Pizza        Red Peppers       15.0\n",
       "2  The Barbecue Chicken Pizza      Green Peppers       20.0\n",
       "3  The Barbecue Chicken Pizza           Tomatoes       30.0\n",
       "4  The Barbecue Chicken Pizza         Red Onions       60.0\n",
       "5  The Barbecue Chicken Pizza     Barbecue Sauce       15.0\n",
       "6  The Barbecue Chicken Pizza  Barbecued Chicken       30.0\n",
       "7  The Barbecue Chicken Pizza        Red Peppers       10.0\n",
       "8  The Barbecue Chicken Pizza      Green Peppers       15.0\n",
       "9  The Barbecue Chicken Pizza           Tomatoes       20.0"
      ]
     },
     "execution_count": 348,
     "metadata": {},
     "output_type": "execute_result"
    }
   ],
   "source": [
    "pizza_ingredients.head(10)"
   ]
  },
  {
   "cell_type": "code",
   "execution_count": 350,
   "id": "28d27832-b08b-431c-8205-867993e2c442",
   "metadata": {},
   "outputs": [
    {
     "name": "stdout",
     "output_type": "stream",
     "text": [
      "Barbecued Chicken: 5401.46 grams\n",
      "Red Peppers: 11343.01 grams\n",
      "Green Peppers: 8028.58 grams\n",
      "Tomatoes: 34975.08 grams\n",
      "Red Onions: 54801.32 grams\n",
      "Barbecue Sauce: 1800.49 grams\n",
      "Bacon: 19992.00 grams\n",
      "Pepperoni: 24182.89 grams\n",
      "Italian Sausage: 343.95 grams\n",
      "Chorizo Sausage: 1719.77 grams\n",
      "Brie Carre Cheese: 260.27 grams\n",
      "Prosciutto: 260.27 grams\n",
      "Caramelized Onions: 260.27 grams\n",
      "Pears: 86.76 grams\n",
      "Thyme: 43.38 grams\n",
      "Garlic: 17934.21 grams\n",
      "?duja Salami: 1586.90 grams\n",
      "Pancetta: 2380.35 grams\n",
      "Friggitello Peppers: 396.72 grams\n",
      "Chicken: 44723.04 grams\n",
      "Artichokes: 8188.55 grams\n",
      "Spinach: 21042.62 grams\n",
      "Jalapeno Peppers: 3769.65 grams\n",
      "Fontina Cheese: 3920.00 grams\n",
      "Gouda Cheese: 2940.00 grams\n",
      "Mushrooms: 26136.37 grams\n",
      "Asiago Cheese: 4168.32 grams\n",
      "Alfredo Sauce: 934.39 grams\n",
      "Pesto Sauce: 3898.15 grams\n",
      "Mozzarella Cheese: 10227.70 grams\n",
      "Provolone Cheese: 760.03 grams\n",
      "Smoked Gouda Cheese: 760.03 grams\n",
      "Romano Cheese: 760.03 grams\n",
      "Blue Cheese: 760.03 grams\n",
      "Ricotta Cheese: 3982.70 grams\n",
      "Gorgonzola Piccante Cheese: 3186.16 grams\n",
      "Parmigiano Reggiano Cheese: 7965.40 grams\n",
      "Kalamata Olives: 2242.60 grams\n",
      "Feta Cheese: 7529.55 grams\n",
      "Beef Chuck Roast: 7980.00 grams\n",
      "Green Olives: 3265.19 grams\n",
      "Sliced Ham: 1834.86 grams\n",
      "Pineapple: 4642.30 grams\n",
      "Capocollo: 50259.67 grams\n",
      "Goat Cheese: 11491.82 grams\n",
      "Oregano: 1464.38 grams\n",
      "Calabrese Salami: 11117.80 grams\n",
      "Eggplant: 2216.18 grams\n",
      "Zucchini: 4632.55 grams\n",
      "Sun-dried Tomatoes: 1606.41 grams\n",
      "Plum Tomatoes: 3090.39 grams\n",
      "Cilantro: 2299.65 grams\n",
      "Corn: 15331.02 grams\n",
      "Chipotle Sauce: 4599.31 grams\n",
      "Anchovies: 2950.92 grams\n",
      "Genoa Salami: 6247.40 grams\n",
      "Prosciutto di San Daniele: 1959.78 grams\n",
      "Arugula: 839.90 grams\n",
      "Coarse Sicilian Salami: 5535.23 grams\n",
      "Luganega Sausage: 2767.61 grams\n",
      "Onions: 1383.81 grams\n",
      "Soppressata Salami: 4899.98 grams\n",
      "Peperoncini verdi: 1408.58 grams\n",
      "Thai Sweet Chilli Sauce: 1260.00 grams\n"
     ]
    }
   ],
   "source": [
    "# Create a dictionary to store the ingredient quantities\n",
    "ingredient_quantities = {}\n",
    "\n",
    "# Iterate through each pizza in the predictions DataFrame\n",
    "for pizza_name in predictions_df.columns:\n",
    "    # Get the predicted quantity for the pizza (sum of all predicted quantities for the pizza)\n",
    "    predicted_quantity = predictions_df[pizza_name].sum()  # Assuming each column is a different pizza\n",
    "\n",
    "    # Get the ingredients for the pizza (filter pizza_ingredients for this pizza_name)\n",
    "    pizza_ingredients_res = pizza_ingredients[pizza_ingredients['pizza_name'] == pizza_name]\n",
    "\n",
    "    # If no ingredients found for this pizza, continue to the next pizza\n",
    "    if pizza_ingredients_res.empty:\n",
    "        continue\n",
    "\n",
    "    # Iterate through each ingredient for the pizza\n",
    "    for index, row in pizza_ingredients_res.iterrows():\n",
    "        ingredient = row['pizza_ingredients']\n",
    "        ingredient_qty = row['items_qty']\n",
    "\n",
    "        # Calculate the required quantity of the ingredient\n",
    "        required_quantity = predicted_quantity * ingredient_qty\n",
    "\n",
    "        # Add the required quantity to the dictionary\n",
    "        if ingredient not in ingredient_quantities:\n",
    "            ingredient_quantities[ingredient] = 0\n",
    "\n",
    "        ingredient_quantities[ingredient] += required_quantity\n",
    "\n",
    "# Print the ingredient quantities (output)\n",
    "for ingredient, quantity in ingredient_quantities.items():\n",
    "    print(f\"{ingredient}: {quantity:.2f} grams\")\n"
   ]
  },
  {
   "cell_type": "code",
   "execution_count": 351,
   "id": "4a09d6d0-c0a2-450a-9b2c-f2aa07278a47",
   "metadata": {},
   "outputs": [],
   "source": [
    "# Create a DataFrame from the ingredient quantities\n",
    "ingredient_requirements_df = pd.DataFrame.from_dict(ingredient_quantities, orient='index', columns=['required_quantity'])"
   ]
  },
  {
   "cell_type": "code",
   "execution_count": 352,
   "id": "96146c55-1efc-4e76-9b54-2aa4b8739b3f",
   "metadata": {},
   "outputs": [
    {
     "data": {
      "text/html": [
       "<div>\n",
       "<style scoped>\n",
       "    .dataframe tbody tr th:only-of-type {\n",
       "        vertical-align: middle;\n",
       "    }\n",
       "\n",
       "    .dataframe tbody tr th {\n",
       "        vertical-align: top;\n",
       "    }\n",
       "\n",
       "    .dataframe thead th {\n",
       "        text-align: right;\n",
       "    }\n",
       "</style>\n",
       "<table border=\"1\" class=\"dataframe\">\n",
       "  <thead>\n",
       "    <tr style=\"text-align: right;\">\n",
       "      <th></th>\n",
       "      <th>required_quantity</th>\n",
       "    </tr>\n",
       "  </thead>\n",
       "  <tbody>\n",
       "    <tr>\n",
       "      <th>Barbecued Chicken</th>\n",
       "      <td>5401.456843</td>\n",
       "    </tr>\n",
       "    <tr>\n",
       "      <th>Red Peppers</th>\n",
       "      <td>11343.011620</td>\n",
       "    </tr>\n",
       "    <tr>\n",
       "      <th>Green Peppers</th>\n",
       "      <td>8028.578717</td>\n",
       "    </tr>\n",
       "    <tr>\n",
       "      <th>Tomatoes</th>\n",
       "      <td>34975.079263</td>\n",
       "    </tr>\n",
       "    <tr>\n",
       "      <th>Red Onions</th>\n",
       "      <td>54801.315429</td>\n",
       "    </tr>\n",
       "    <tr>\n",
       "      <th>...</th>\n",
       "      <td>...</td>\n",
       "    </tr>\n",
       "    <tr>\n",
       "      <th>Luganega Sausage</th>\n",
       "      <td>2767.612912</td>\n",
       "    </tr>\n",
       "    <tr>\n",
       "      <th>Onions</th>\n",
       "      <td>1383.806456</td>\n",
       "    </tr>\n",
       "    <tr>\n",
       "      <th>Soppressata Salami</th>\n",
       "      <td>4899.979679</td>\n",
       "    </tr>\n",
       "    <tr>\n",
       "      <th>Peperoncini verdi</th>\n",
       "      <td>1408.577238</td>\n",
       "    </tr>\n",
       "    <tr>\n",
       "      <th>Thai Sweet Chilli Sauce</th>\n",
       "      <td>1260.000000</td>\n",
       "    </tr>\n",
       "  </tbody>\n",
       "</table>\n",
       "<p>64 rows × 1 columns</p>\n",
       "</div>"
      ],
      "text/plain": [
       "                         required_quantity\n",
       "Barbecued Chicken              5401.456843\n",
       "Red Peppers                   11343.011620\n",
       "Green Peppers                  8028.578717\n",
       "Tomatoes                      34975.079263\n",
       "Red Onions                    54801.315429\n",
       "...                                    ...\n",
       "Luganega Sausage               2767.612912\n",
       "Onions                         1383.806456\n",
       "Soppressata Salami             4899.979679\n",
       "Peperoncini verdi              1408.577238\n",
       "Thai Sweet Chilli Sauce        1260.000000\n",
       "\n",
       "[64 rows x 1 columns]"
      ]
     },
     "execution_count": 352,
     "metadata": {},
     "output_type": "execute_result"
    }
   ],
   "source": [
    "# Print the ingredient requirements\n",
    "ingredient_requirements_df"
   ]
  },
  {
   "cell_type": "code",
   "execution_count": null,
   "id": "8701eb98-3b51-4273-8822-5dd433a92a18",
   "metadata": {},
   "outputs": [],
   "source": []
  }
 ],
 "metadata": {
  "kernelspec": {
   "display_name": "Python 3 (ipykernel)",
   "language": "python",
   "name": "python3"
  },
  "language_info": {
   "codemirror_mode": {
    "name": "ipython",
    "version": 3
   },
   "file_extension": ".py",
   "mimetype": "text/x-python",
   "name": "python",
   "nbconvert_exporter": "python",
   "pygments_lexer": "ipython3",
   "version": "3.12.7"
  }
 },
 "nbformat": 4,
 "nbformat_minor": 5
}
